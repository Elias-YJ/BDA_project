{
 "cells": [
  {
   "cell_type": "code",
   "execution_count": 1,
   "metadata": {},
   "outputs": [
    {
     "name": "stderr",
     "output_type": "stream",
     "text": [
      "/Users/leevi/.pyenv/versions/3.10.0/envs/bda-venv/lib/python3.10/site-packages/pandas/compat/__init__.py:124: UserWarning: Could not import the lzma module. Your installed Python is incomplete. Attempting to use lzma compression will result in a RuntimeError.\n",
      "  warnings.warn(msg)\n"
     ]
    }
   ],
   "source": [
    "import pandas as pd\n",
    "import numpy as np\n",
    "import cmdstanpy as stan\n",
    "import matplotlib.pyplot as plt\n",
    "from scipy import stats\n",
    "\n",
    "from modelling.util.data_loader import load_data, drop_dummy_cols"
   ]
  },
  {
   "cell_type": "code",
   "execution_count": 2,
   "metadata": {},
   "outputs": [],
   "source": [
    "df = load_data(include_dummies=True, effect_coding=False, norm_data=True)"
   ]
  },
  {
   "cell_type": "code",
   "execution_count": 3,
   "metadata": {},
   "outputs": [
    {
     "data": {
      "text/plain": [
       "Index(['age', 'resting_bp', 'cholesterol', 'max_hr', 'oldpeak', 'sex',\n",
       "       'chest_pain_type', 'fasting_bs', 'resting_ecg', 'exercise_angina',\n",
       "       'st_slope', 'heart_disease', 'resting_ecg_normal', 'resting_ecg_st',\n",
       "       'resting_ecg_lvh', 'chest_pain_type_ata', 'chest_pain_type_nap',\n",
       "       'chest_pain_type_asy', 'chest_pain_type_ta', 'st_slope_up',\n",
       "       'st_slope_flat', 'st_slope_down'],\n",
       "      dtype='object')"
      ]
     },
     "execution_count": 3,
     "metadata": {},
     "output_type": "execute_result"
    }
   ],
   "source": [
    "df.columns"
   ]
  },
  {
   "cell_type": "code",
   "execution_count": 4,
   "metadata": {},
   "outputs": [
    {
     "data": {
      "text/html": [
       "<div>\n",
       "<style scoped>\n",
       "    .dataframe tbody tr th:only-of-type {\n",
       "        vertical-align: middle;\n",
       "    }\n",
       "\n",
       "    .dataframe tbody tr th {\n",
       "        vertical-align: top;\n",
       "    }\n",
       "\n",
       "    .dataframe thead th {\n",
       "        text-align: right;\n",
       "    }\n",
       "</style>\n",
       "<table border=\"1\" class=\"dataframe\">\n",
       "  <thead>\n",
       "    <tr style=\"text-align: right;\">\n",
       "      <th></th>\n",
       "      <th>count</th>\n",
       "      <th>mean</th>\n",
       "    </tr>\n",
       "    <tr>\n",
       "      <th>sex</th>\n",
       "      <th></th>\n",
       "      <th></th>\n",
       "    </tr>\n",
       "  </thead>\n",
       "  <tbody>\n",
       "    <tr>\n",
       "      <th>0</th>\n",
       "      <td>193</td>\n",
       "      <td>0.259067</td>\n",
       "    </tr>\n",
       "    <tr>\n",
       "      <th>1</th>\n",
       "      <td>725</td>\n",
       "      <td>0.631724</td>\n",
       "    </tr>\n",
       "  </tbody>\n",
       "</table>\n",
       "</div>"
      ],
      "text/plain": [
       "     count      mean\n",
       "sex                 \n",
       "0      193  0.259067\n",
       "1      725  0.631724"
      ]
     },
     "execution_count": 4,
     "metadata": {},
     "output_type": "execute_result"
    }
   ],
   "source": [
    "df.groupby('sex').heart_disease.agg(['count', 'mean'])"
   ]
  },
  {
   "cell_type": "code",
   "execution_count": 5,
   "metadata": {},
   "outputs": [
    {
     "data": {
      "text/html": [
       "<div>\n",
       "<style scoped>\n",
       "    .dataframe tbody tr th:only-of-type {\n",
       "        vertical-align: middle;\n",
       "    }\n",
       "\n",
       "    .dataframe tbody tr th {\n",
       "        vertical-align: top;\n",
       "    }\n",
       "\n",
       "    .dataframe thead th {\n",
       "        text-align: right;\n",
       "    }\n",
       "</style>\n",
       "<table border=\"1\" class=\"dataframe\">\n",
       "  <thead>\n",
       "    <tr style=\"text-align: right;\">\n",
       "      <th></th>\n",
       "      <th>count</th>\n",
       "      <th>mean</th>\n",
       "    </tr>\n",
       "    <tr>\n",
       "      <th>chest_pain_type</th>\n",
       "      <th></th>\n",
       "      <th></th>\n",
       "    </tr>\n",
       "  </thead>\n",
       "  <tbody>\n",
       "    <tr>\n",
       "      <th>ASY</th>\n",
       "      <td>496</td>\n",
       "      <td>0.790323</td>\n",
       "    </tr>\n",
       "    <tr>\n",
       "      <th>ATA</th>\n",
       "      <td>173</td>\n",
       "      <td>0.138728</td>\n",
       "    </tr>\n",
       "    <tr>\n",
       "      <th>NAP</th>\n",
       "      <td>203</td>\n",
       "      <td>0.354680</td>\n",
       "    </tr>\n",
       "    <tr>\n",
       "      <th>TA</th>\n",
       "      <td>46</td>\n",
       "      <td>0.434783</td>\n",
       "    </tr>\n",
       "  </tbody>\n",
       "</table>\n",
       "</div>"
      ],
      "text/plain": [
       "                 count      mean\n",
       "chest_pain_type                 \n",
       "ASY                496  0.790323\n",
       "ATA                173  0.138728\n",
       "NAP                203  0.354680\n",
       "TA                  46  0.434783"
      ]
     },
     "execution_count": 5,
     "metadata": {},
     "output_type": "execute_result"
    }
   ],
   "source": [
    "df.groupby('chest_pain_type').heart_disease.agg(['count', 'mean'])"
   ]
  },
  {
   "cell_type": "code",
   "execution_count": 6,
   "metadata": {},
   "outputs": [
    {
     "data": {
      "text/html": [
       "<div>\n",
       "<style scoped>\n",
       "    .dataframe tbody tr th:only-of-type {\n",
       "        vertical-align: middle;\n",
       "    }\n",
       "\n",
       "    .dataframe tbody tr th {\n",
       "        vertical-align: top;\n",
       "    }\n",
       "\n",
       "    .dataframe thead th {\n",
       "        text-align: right;\n",
       "    }\n",
       "</style>\n",
       "<table border=\"1\" class=\"dataframe\">\n",
       "  <thead>\n",
       "    <tr style=\"text-align: right;\">\n",
       "      <th></th>\n",
       "      <th>count</th>\n",
       "      <th>mean</th>\n",
       "    </tr>\n",
       "    <tr>\n",
       "      <th>fasting_bs</th>\n",
       "      <th></th>\n",
       "      <th></th>\n",
       "    </tr>\n",
       "  </thead>\n",
       "  <tbody>\n",
       "    <tr>\n",
       "      <th>0</th>\n",
       "      <td>704</td>\n",
       "      <td>0.480114</td>\n",
       "    </tr>\n",
       "    <tr>\n",
       "      <th>1</th>\n",
       "      <td>214</td>\n",
       "      <td>0.794393</td>\n",
       "    </tr>\n",
       "  </tbody>\n",
       "</table>\n",
       "</div>"
      ],
      "text/plain": [
       "            count      mean\n",
       "fasting_bs                 \n",
       "0             704  0.480114\n",
       "1             214  0.794393"
      ]
     },
     "execution_count": 6,
     "metadata": {},
     "output_type": "execute_result"
    }
   ],
   "source": [
    "df.groupby('fasting_bs').heart_disease.agg(['count', 'mean'])"
   ]
  },
  {
   "cell_type": "code",
   "execution_count": 7,
   "metadata": {},
   "outputs": [
    {
     "data": {
      "text/html": [
       "<div>\n",
       "<style scoped>\n",
       "    .dataframe tbody tr th:only-of-type {\n",
       "        vertical-align: middle;\n",
       "    }\n",
       "\n",
       "    .dataframe tbody tr th {\n",
       "        vertical-align: top;\n",
       "    }\n",
       "\n",
       "    .dataframe thead th {\n",
       "        text-align: right;\n",
       "    }\n",
       "</style>\n",
       "<table border=\"1\" class=\"dataframe\">\n",
       "  <thead>\n",
       "    <tr style=\"text-align: right;\">\n",
       "      <th></th>\n",
       "      <th>count</th>\n",
       "      <th>mean</th>\n",
       "    </tr>\n",
       "    <tr>\n",
       "      <th>resting_ecg</th>\n",
       "      <th></th>\n",
       "      <th></th>\n",
       "    </tr>\n",
       "  </thead>\n",
       "  <tbody>\n",
       "    <tr>\n",
       "      <th>LVH</th>\n",
       "      <td>188</td>\n",
       "      <td>0.563830</td>\n",
       "    </tr>\n",
       "    <tr>\n",
       "      <th>Normal</th>\n",
       "      <td>552</td>\n",
       "      <td>0.516304</td>\n",
       "    </tr>\n",
       "    <tr>\n",
       "      <th>ST</th>\n",
       "      <td>178</td>\n",
       "      <td>0.657303</td>\n",
       "    </tr>\n",
       "  </tbody>\n",
       "</table>\n",
       "</div>"
      ],
      "text/plain": [
       "             count      mean\n",
       "resting_ecg                 \n",
       "LVH            188  0.563830\n",
       "Normal         552  0.516304\n",
       "ST             178  0.657303"
      ]
     },
     "execution_count": 7,
     "metadata": {},
     "output_type": "execute_result"
    }
   ],
   "source": [
    "df.groupby('resting_ecg').heart_disease.agg(['count', 'mean'])"
   ]
  },
  {
   "cell_type": "code",
   "execution_count": 8,
   "metadata": {},
   "outputs": [
    {
     "data": {
      "text/html": [
       "<div>\n",
       "<style scoped>\n",
       "    .dataframe tbody tr th:only-of-type {\n",
       "        vertical-align: middle;\n",
       "    }\n",
       "\n",
       "    .dataframe tbody tr th {\n",
       "        vertical-align: top;\n",
       "    }\n",
       "\n",
       "    .dataframe thead th {\n",
       "        text-align: right;\n",
       "    }\n",
       "</style>\n",
       "<table border=\"1\" class=\"dataframe\">\n",
       "  <thead>\n",
       "    <tr style=\"text-align: right;\">\n",
       "      <th></th>\n",
       "      <th>count</th>\n",
       "      <th>mean</th>\n",
       "    </tr>\n",
       "    <tr>\n",
       "      <th>exercise_angina</th>\n",
       "      <th></th>\n",
       "      <th></th>\n",
       "    </tr>\n",
       "  </thead>\n",
       "  <tbody>\n",
       "    <tr>\n",
       "      <th>0</th>\n",
       "      <td>547</td>\n",
       "      <td>0.351005</td>\n",
       "    </tr>\n",
       "    <tr>\n",
       "      <th>1</th>\n",
       "      <td>371</td>\n",
       "      <td>0.851752</td>\n",
       "    </tr>\n",
       "  </tbody>\n",
       "</table>\n",
       "</div>"
      ],
      "text/plain": [
       "                 count      mean\n",
       "exercise_angina                 \n",
       "0                  547  0.351005\n",
       "1                  371  0.851752"
      ]
     },
     "execution_count": 8,
     "metadata": {},
     "output_type": "execute_result"
    }
   ],
   "source": [
    "df.groupby('exercise_angina').heart_disease.agg(['count', 'mean'])"
   ]
  },
  {
   "cell_type": "code",
   "execution_count": 9,
   "metadata": {},
   "outputs": [
    {
     "data": {
      "text/html": [
       "<div>\n",
       "<style scoped>\n",
       "    .dataframe tbody tr th:only-of-type {\n",
       "        vertical-align: middle;\n",
       "    }\n",
       "\n",
       "    .dataframe tbody tr th {\n",
       "        vertical-align: top;\n",
       "    }\n",
       "\n",
       "    .dataframe thead th {\n",
       "        text-align: right;\n",
       "    }\n",
       "</style>\n",
       "<table border=\"1\" class=\"dataframe\">\n",
       "  <thead>\n",
       "    <tr style=\"text-align: right;\">\n",
       "      <th></th>\n",
       "      <th>count</th>\n",
       "      <th>mean</th>\n",
       "    </tr>\n",
       "    <tr>\n",
       "      <th>st_slope</th>\n",
       "      <th></th>\n",
       "      <th></th>\n",
       "    </tr>\n",
       "  </thead>\n",
       "  <tbody>\n",
       "    <tr>\n",
       "      <th>Down</th>\n",
       "      <td>63</td>\n",
       "      <td>0.777778</td>\n",
       "    </tr>\n",
       "    <tr>\n",
       "      <th>Flat</th>\n",
       "      <td>460</td>\n",
       "      <td>0.828261</td>\n",
       "    </tr>\n",
       "    <tr>\n",
       "      <th>Up</th>\n",
       "      <td>395</td>\n",
       "      <td>0.197468</td>\n",
       "    </tr>\n",
       "  </tbody>\n",
       "</table>\n",
       "</div>"
      ],
      "text/plain": [
       "          count      mean\n",
       "st_slope                 \n",
       "Down         63  0.777778\n",
       "Flat        460  0.828261\n",
       "Up          395  0.197468"
      ]
     },
     "execution_count": 9,
     "metadata": {},
     "output_type": "execute_result"
    }
   ],
   "source": [
    "df.groupby('st_slope').heart_disease.agg(['count', 'mean'])"
   ]
  },
  {
   "cell_type": "markdown",
   "metadata": {},
   "source": [
    "# Set up simple logistic regression model"
   ]
  },
  {
   "cell_type": "code",
   "execution_count": 10,
   "metadata": {},
   "outputs": [],
   "source": [
    "from modelling.util.data_formatters import format_logreg_data\n",
    "simple_data = format_logreg_data(df)\n",
    "simple_priors = dict(\n",
    "    alpha_mu = 0,\n",
    "    alpha_scale = 1,\n",
    "    beta_mu = np.zeros(simple_data['M']),\n",
    "    beta_scale = np.ones(simple_data['M']),\n",
    ")\n",
    "simple_input = simple_data | simple_priors"
   ]
  },
  {
   "cell_type": "code",
   "execution_count": 11,
   "metadata": {},
   "outputs": [
    {
     "name": "stderr",
     "output_type": "stream",
     "text": [
      "INFO:cmdstanpy:found newer exe file, not recompiling\n",
      "INFO:cmdstanpy:compiled model file: /Users/leevi/repos/bda-project/modelling/stan_models/simple_regression\n",
      "INFO:cmdstanpy:start chain 1\n",
      "INFO:cmdstanpy:start chain 2\n",
      "INFO:cmdstanpy:start chain 3\n",
      "INFO:cmdstanpy:start chain 4\n",
      "INFO:cmdstanpy:finish chain 2\n",
      "INFO:cmdstanpy:finish chain 1\n",
      "INFO:cmdstanpy:finish chain 3\n",
      "INFO:cmdstanpy:finish chain 4\n"
     ]
    },
    {
     "data": {
      "text/html": [
       "<div>\n",
       "<style scoped>\n",
       "    .dataframe tbody tr th:only-of-type {\n",
       "        vertical-align: middle;\n",
       "    }\n",
       "\n",
       "    .dataframe tbody tr th {\n",
       "        vertical-align: top;\n",
       "    }\n",
       "\n",
       "    .dataframe thead th {\n",
       "        text-align: right;\n",
       "    }\n",
       "</style>\n",
       "<table border=\"1\" class=\"dataframe\">\n",
       "  <thead>\n",
       "    <tr style=\"text-align: right;\">\n",
       "      <th></th>\n",
       "      <th>Mean</th>\n",
       "      <th>MCSE</th>\n",
       "      <th>StdDev</th>\n",
       "      <th>5%</th>\n",
       "      <th>50%</th>\n",
       "      <th>95%</th>\n",
       "      <th>N_Eff</th>\n",
       "      <th>N_Eff/s</th>\n",
       "      <th>R_hat</th>\n",
       "    </tr>\n",
       "    <tr>\n",
       "      <th>name</th>\n",
       "      <th></th>\n",
       "      <th></th>\n",
       "      <th></th>\n",
       "      <th></th>\n",
       "      <th></th>\n",
       "      <th></th>\n",
       "      <th></th>\n",
       "      <th></th>\n",
       "      <th></th>\n",
       "    </tr>\n",
       "  </thead>\n",
       "  <tbody>\n",
       "    <tr>\n",
       "      <th>beta[1]</th>\n",
       "      <td>0.160</td>\n",
       "      <td>0.0019</td>\n",
       "      <td>0.12</td>\n",
       "      <td>-0.047</td>\n",
       "      <td>0.160</td>\n",
       "      <td>0.360</td>\n",
       "      <td>4252.0</td>\n",
       "      <td>1031.0</td>\n",
       "      <td>1.0</td>\n",
       "    </tr>\n",
       "    <tr>\n",
       "      <th>beta[2]</th>\n",
       "      <td>0.078</td>\n",
       "      <td>0.0016</td>\n",
       "      <td>0.11</td>\n",
       "      <td>-0.100</td>\n",
       "      <td>0.077</td>\n",
       "      <td>0.260</td>\n",
       "      <td>4702.0</td>\n",
       "      <td>1140.0</td>\n",
       "      <td>1.0</td>\n",
       "    </tr>\n",
       "    <tr>\n",
       "      <th>beta[3]</th>\n",
       "      <td>-0.460</td>\n",
       "      <td>0.0018</td>\n",
       "      <td>0.12</td>\n",
       "      <td>-0.650</td>\n",
       "      <td>-0.460</td>\n",
       "      <td>-0.270</td>\n",
       "      <td>4423.0</td>\n",
       "      <td>1073.0</td>\n",
       "      <td>1.0</td>\n",
       "    </tr>\n",
       "    <tr>\n",
       "      <th>beta[4]</th>\n",
       "      <td>-0.130</td>\n",
       "      <td>0.0020</td>\n",
       "      <td>0.13</td>\n",
       "      <td>-0.340</td>\n",
       "      <td>-0.130</td>\n",
       "      <td>0.077</td>\n",
       "      <td>3917.0</td>\n",
       "      <td>950.0</td>\n",
       "      <td>1.0</td>\n",
       "    </tr>\n",
       "    <tr>\n",
       "      <th>beta[5]</th>\n",
       "      <td>0.410</td>\n",
       "      <td>0.0020</td>\n",
       "      <td>0.13</td>\n",
       "      <td>0.210</td>\n",
       "      <td>0.410</td>\n",
       "      <td>0.620</td>\n",
       "      <td>4005.0</td>\n",
       "      <td>971.0</td>\n",
       "      <td>1.0</td>\n",
       "    </tr>\n",
       "    <tr>\n",
       "      <th>beta[6]</th>\n",
       "      <td>1.300</td>\n",
       "      <td>0.0037</td>\n",
       "      <td>0.26</td>\n",
       "      <td>0.900</td>\n",
       "      <td>1.300</td>\n",
       "      <td>1.800</td>\n",
       "      <td>4892.0</td>\n",
       "      <td>1187.0</td>\n",
       "      <td>1.0</td>\n",
       "    </tr>\n",
       "    <tr>\n",
       "      <th>beta[7]</th>\n",
       "      <td>1.100</td>\n",
       "      <td>0.0038</td>\n",
       "      <td>0.26</td>\n",
       "      <td>0.640</td>\n",
       "      <td>1.100</td>\n",
       "      <td>1.500</td>\n",
       "      <td>4425.0</td>\n",
       "      <td>1073.0</td>\n",
       "      <td>1.0</td>\n",
       "    </tr>\n",
       "    <tr>\n",
       "      <th>beta[8]</th>\n",
       "      <td>0.870</td>\n",
       "      <td>0.0036</td>\n",
       "      <td>0.24</td>\n",
       "      <td>0.480</td>\n",
       "      <td>0.880</td>\n",
       "      <td>1.300</td>\n",
       "      <td>4352.0</td>\n",
       "      <td>1056.0</td>\n",
       "      <td>1.0</td>\n",
       "    </tr>\n",
       "    <tr>\n",
       "      <th>beta[9]</th>\n",
       "      <td>-0.380</td>\n",
       "      <td>0.0120</td>\n",
       "      <td>0.53</td>\n",
       "      <td>-1.200</td>\n",
       "      <td>-0.390</td>\n",
       "      <td>0.480</td>\n",
       "      <td>1955.0</td>\n",
       "      <td>474.0</td>\n",
       "      <td>1.0</td>\n",
       "    </tr>\n",
       "    <tr>\n",
       "      <th>beta[10]</th>\n",
       "      <td>-0.430</td>\n",
       "      <td>0.0120</td>\n",
       "      <td>0.56</td>\n",
       "      <td>-1.300</td>\n",
       "      <td>-0.420</td>\n",
       "      <td>0.480</td>\n",
       "      <td>2064.0</td>\n",
       "      <td>501.0</td>\n",
       "      <td>1.0</td>\n",
       "    </tr>\n",
       "    <tr>\n",
       "      <th>beta[11]</th>\n",
       "      <td>-0.210</td>\n",
       "      <td>0.0120</td>\n",
       "      <td>0.54</td>\n",
       "      <td>-1.100</td>\n",
       "      <td>-0.200</td>\n",
       "      <td>0.660</td>\n",
       "      <td>1948.0</td>\n",
       "      <td>473.0</td>\n",
       "      <td>1.0</td>\n",
       "    </tr>\n",
       "    <tr>\n",
       "      <th>beta[12]</th>\n",
       "      <td>-0.820</td>\n",
       "      <td>0.0100</td>\n",
       "      <td>0.51</td>\n",
       "      <td>-1.700</td>\n",
       "      <td>-0.800</td>\n",
       "      <td>-0.023</td>\n",
       "      <td>2327.0</td>\n",
       "      <td>564.0</td>\n",
       "      <td>1.0</td>\n",
       "    </tr>\n",
       "    <tr>\n",
       "      <th>beta[13]</th>\n",
       "      <td>-0.660</td>\n",
       "      <td>0.0110</td>\n",
       "      <td>0.49</td>\n",
       "      <td>-1.500</td>\n",
       "      <td>-0.650</td>\n",
       "      <td>0.130</td>\n",
       "      <td>2127.0</td>\n",
       "      <td>516.0</td>\n",
       "      <td>1.0</td>\n",
       "    </tr>\n",
       "    <tr>\n",
       "      <th>beta[14]</th>\n",
       "      <td>0.990</td>\n",
       "      <td>0.0110</td>\n",
       "      <td>0.48</td>\n",
       "      <td>0.180</td>\n",
       "      <td>0.990</td>\n",
       "      <td>1.800</td>\n",
       "      <td>2085.0</td>\n",
       "      <td>506.0</td>\n",
       "      <td>1.0</td>\n",
       "    </tr>\n",
       "    <tr>\n",
       "      <th>beta[15]</th>\n",
       "      <td>-0.420</td>\n",
       "      <td>0.0110</td>\n",
       "      <td>0.54</td>\n",
       "      <td>-1.300</td>\n",
       "      <td>-0.410</td>\n",
       "      <td>0.450</td>\n",
       "      <td>2654.0</td>\n",
       "      <td>644.0</td>\n",
       "      <td>1.0</td>\n",
       "    </tr>\n",
       "    <tr>\n",
       "      <th>beta[16]</th>\n",
       "      <td>-1.500</td>\n",
       "      <td>0.0120</td>\n",
       "      <td>0.55</td>\n",
       "      <td>-2.300</td>\n",
       "      <td>-1.500</td>\n",
       "      <td>-0.550</td>\n",
       "      <td>2118.0</td>\n",
       "      <td>514.0</td>\n",
       "      <td>1.0</td>\n",
       "    </tr>\n",
       "    <tr>\n",
       "      <th>beta[17]</th>\n",
       "      <td>0.950</td>\n",
       "      <td>0.0120</td>\n",
       "      <td>0.54</td>\n",
       "      <td>0.073</td>\n",
       "      <td>0.930</td>\n",
       "      <td>1.800</td>\n",
       "      <td>2110.0</td>\n",
       "      <td>512.0</td>\n",
       "      <td>1.0</td>\n",
       "    </tr>\n",
       "    <tr>\n",
       "      <th>beta[18]</th>\n",
       "      <td>-0.390</td>\n",
       "      <td>0.0120</td>\n",
       "      <td>0.59</td>\n",
       "      <td>-1.400</td>\n",
       "      <td>-0.380</td>\n",
       "      <td>0.570</td>\n",
       "      <td>2359.0</td>\n",
       "      <td>572.0</td>\n",
       "      <td>1.0</td>\n",
       "    </tr>\n",
       "    <tr>\n",
       "      <th>alpha</th>\n",
       "      <td>-1.000</td>\n",
       "      <td>0.0000</td>\n",
       "      <td>0.70</td>\n",
       "      <td>-2.100</td>\n",
       "      <td>-0.900</td>\n",
       "      <td>0.200</td>\n",
       "      <td>2273.1</td>\n",
       "      <td>551.3</td>\n",
       "      <td>1.0</td>\n",
       "    </tr>\n",
       "  </tbody>\n",
       "</table>\n",
       "</div>"
      ],
      "text/plain": [
       "           Mean    MCSE  StdDev     5%    50%    95%   N_Eff  N_Eff/s  R_hat\n",
       "name                                                                        \n",
       "beta[1]   0.160  0.0019    0.12 -0.047  0.160  0.360  4252.0   1031.0    1.0\n",
       "beta[2]   0.078  0.0016    0.11 -0.100  0.077  0.260  4702.0   1140.0    1.0\n",
       "beta[3]  -0.460  0.0018    0.12 -0.650 -0.460 -0.270  4423.0   1073.0    1.0\n",
       "beta[4]  -0.130  0.0020    0.13 -0.340 -0.130  0.077  3917.0    950.0    1.0\n",
       "beta[5]   0.410  0.0020    0.13  0.210  0.410  0.620  4005.0    971.0    1.0\n",
       "beta[6]   1.300  0.0037    0.26  0.900  1.300  1.800  4892.0   1187.0    1.0\n",
       "beta[7]   1.100  0.0038    0.26  0.640  1.100  1.500  4425.0   1073.0    1.0\n",
       "beta[8]   0.870  0.0036    0.24  0.480  0.880  1.300  4352.0   1056.0    1.0\n",
       "beta[9]  -0.380  0.0120    0.53 -1.200 -0.390  0.480  1955.0    474.0    1.0\n",
       "beta[10] -0.430  0.0120    0.56 -1.300 -0.420  0.480  2064.0    501.0    1.0\n",
       "beta[11] -0.210  0.0120    0.54 -1.100 -0.200  0.660  1948.0    473.0    1.0\n",
       "beta[12] -0.820  0.0100    0.51 -1.700 -0.800 -0.023  2327.0    564.0    1.0\n",
       "beta[13] -0.660  0.0110    0.49 -1.500 -0.650  0.130  2127.0    516.0    1.0\n",
       "beta[14]  0.990  0.0110    0.48  0.180  0.990  1.800  2085.0    506.0    1.0\n",
       "beta[15] -0.420  0.0110    0.54 -1.300 -0.410  0.450  2654.0    644.0    1.0\n",
       "beta[16] -1.500  0.0120    0.55 -2.300 -1.500 -0.550  2118.0    514.0    1.0\n",
       "beta[17]  0.950  0.0120    0.54  0.073  0.930  1.800  2110.0    512.0    1.0\n",
       "beta[18] -0.390  0.0120    0.59 -1.400 -0.380  0.570  2359.0    572.0    1.0\n",
       "alpha    -1.000  0.0000    0.70 -2.100 -0.900  0.200  2273.1    551.3    1.0"
      ]
     },
     "execution_count": 11,
     "metadata": {},
     "output_type": "execute_result"
    }
   ],
   "source": [
    "simple_model = stan.CmdStanModel(stan_file='modelling/stan_models/simple_regression.stan')\n",
    "fit = simple_model.sample(simple_input)\n",
    "summary = fit.summary()\n",
    "summary.filter(regex=r'(alpha|beta)', axis=0)"
   ]
  },
  {
   "cell_type": "markdown",
   "metadata": {},
   "source": [
    "# Hierarchical model"
   ]
  },
  {
   "cell_type": "code",
   "execution_count": 11,
   "metadata": {},
   "outputs": [],
   "source": [
    "def format_hierarchical_data(df, grouping_cols):\n",
    "    y_name = 'heart_disease'\n",
    "    y = df[y_name]\n",
    "\n",
    "    df = df.drop(columns=[y_name])\n",
    "    df = drop_dummy_cols(df, grouping_cols)\n",
    "    df_numeric = df.select_dtypes(include=['int64','float64'])\n",
    "    df_numeric = df_numeric.drop(columns=grouping_cols, errors='ignore')\n",
    "    group_indicies = df.groupby(grouping_cols).ngroup() + 1\n",
    "    mapping_index = pd.MultiIndex.from_frame(df[grouping_cols])\n",
    "    group_indicies.index = mapping_index\n",
    "    X = df_numeric\n",
    "    N, M = X.shape\n",
    "    data = dict(\n",
    "        N=N,\n",
    "        M=M,\n",
    "        y=y,\n",
    "        X=X,\n",
    "        J=group_indicies.max(),\n",
    "        gj=group_indicies,\n",
    "        index_mapping=group_indicies.drop_duplicates()\n",
    "    )\n",
    "    return data"
   ]
  },
  {
   "cell_type": "code",
   "execution_count": 12,
   "metadata": {},
   "outputs": [],
   "source": [
    "from modelling.util.data_formatters import format_hierarchical_data"
   ]
  },
  {
   "cell_type": "code",
   "execution_count": null,
   "metadata": {},
   "outputs": [],
   "source": []
  },
  {
   "cell_type": "code",
   "execution_count": 13,
   "metadata": {},
   "outputs": [],
   "source": [
    "hier_data = format_hierarchical_data(df, ['chest_pain_type'])\n",
    "hier_priors = dict(\n",
    "    am_mu = 0,\n",
    "    am_scale = 1,\n",
    "    bm_mu = np.zeros(hier_data['M']),\n",
    "    bm_scale = np.ones(hier_data['M']),\n",
    "    as_mu = 0,\n",
    "    as_scale = 1,\n",
    "    bs_mu = np.zeros(hier_data['M']),\n",
    "    bs_scale = np.ones(hier_data['M']),\n",
    ")\n",
    "# hier_priors = dict(\n",
    "#     am_mu = 0,\n",
    "#     am_scale = 1,\n",
    "#     bm_mu = np.zeros(hier_data['M']),\n",
    "#     bm_scale = np.ones(hier_data['M']),\n",
    "#     as_mu = 0,\n",
    "#     as_scale = 1,\n",
    "#     bs_mu = 0,\n",
    "#     bs_scale = 1,\n",
    "# )\n",
    "hier_input = hier_data | hier_priors"
   ]
  },
  {
   "cell_type": "code",
   "execution_count": 21,
   "metadata": {},
   "outputs": [
    {
     "data": {
      "text/plain": [
       "pandas.core.frame.DataFrame"
      ]
     },
     "execution_count": 21,
     "metadata": {},
     "output_type": "execute_result"
    }
   ],
   "source": [
    "type(hier_input['X'])"
   ]
  },
  {
   "cell_type": "code",
   "execution_count": 24,
   "metadata": {},
   "outputs": [
    {
     "data": {
      "text/plain": [
       "{'chest_pain_type': {1: 'ASY', 2: 'ATA', 3: 'NAP', 4: 'TA'}}"
      ]
     },
     "execution_count": 24,
     "metadata": {},
     "output_type": "execute_result"
    }
   ],
   "source": [
    "hier_input['index_mapping'].to_dict()"
   ]
  },
  {
   "cell_type": "code",
   "execution_count": 26,
   "metadata": {},
   "outputs": [],
   "source": [
    "import pickle"
   ]
  },
  {
   "cell_type": "code",
   "execution_count": 32,
   "metadata": {},
   "outputs": [],
   "source": [
    "with open('hier.pkl', 'wb') as f:\n",
    "    pickle.dump(hier_data, f)\n"
   ]
  },
  {
   "cell_type": "code",
   "execution_count": 33,
   "metadata": {},
   "outputs": [],
   "source": [
    "with open('hier.pkl', 'rb') as f:\n",
    "    out = pickle.load(f)"
   ]
  },
  {
   "cell_type": "code",
   "execution_count": 14,
   "metadata": {},
   "outputs": [
    {
     "name": "stderr",
     "output_type": "stream",
     "text": [
      "INFO:cmdstanpy:found newer exe file, not recompiling\n",
      "INFO:cmdstanpy:compiled model file: /Users/leevi/repos/bda-project/modelling/stan_models/hierarchical_v5\n"
     ]
    },
    {
     "ename": "ValueError",
     "evalue": "Invalid type provided to write_stan_json for key 'index_mapping' as part of collection <class 'pandas.core.frame.DataFrame'>",
     "output_type": "error",
     "traceback": [
      "\u001b[0;31m---------------------------------------------------------------------------\u001b[0m",
      "\u001b[0;31mTypeError\u001b[0m                                 Traceback (most recent call last)",
      "\u001b[0;32m~/.pyenv/versions/3.10.0/envs/bda-venv/lib/python3.10/site-packages/cmdstanpy/utils.py\u001b[0m in \u001b[0;36mwrite_stan_json\u001b[0;34m(path, data)\u001b[0m\n\u001b[1;32m    420\u001b[0m             \u001b[0;32mtry\u001b[0m\u001b[0;34m:\u001b[0m\u001b[0;34m\u001b[0m\u001b[0;34m\u001b[0m\u001b[0m\n\u001b[0;32m--> 421\u001b[0;31m                 \u001b[0;32mif\u001b[0m \u001b[0;32mnot\u001b[0m \u001b[0mnp\u001b[0m\u001b[0;34m.\u001b[0m\u001b[0mall\u001b[0m\u001b[0;34m(\u001b[0m\u001b[0mnp\u001b[0m\u001b[0;34m.\u001b[0m\u001b[0misfinite\u001b[0m\u001b[0;34m(\u001b[0m\u001b[0mval\u001b[0m\u001b[0;34m)\u001b[0m\u001b[0;34m)\u001b[0m\u001b[0;34m:\u001b[0m\u001b[0;34m\u001b[0m\u001b[0;34m\u001b[0m\u001b[0m\n\u001b[0m\u001b[1;32m    422\u001b[0m                     raise ValueError(\n",
      "\u001b[0;32m~/.pyenv/versions/3.10.0/envs/bda-venv/lib/python3.10/site-packages/pandas/core/generic.py\u001b[0m in \u001b[0;36m__array_ufunc__\u001b[0;34m(self, ufunc, method, *inputs, **kwargs)\u001b[0m\n\u001b[1;32m   2031\u001b[0m     ):\n\u001b[0;32m-> 2032\u001b[0;31m         \u001b[0;32mreturn\u001b[0m \u001b[0marraylike\u001b[0m\u001b[0;34m.\u001b[0m\u001b[0marray_ufunc\u001b[0m\u001b[0;34m(\u001b[0m\u001b[0mself\u001b[0m\u001b[0;34m,\u001b[0m \u001b[0mufunc\u001b[0m\u001b[0;34m,\u001b[0m \u001b[0mmethod\u001b[0m\u001b[0;34m,\u001b[0m \u001b[0;34m*\u001b[0m\u001b[0minputs\u001b[0m\u001b[0;34m,\u001b[0m \u001b[0;34m**\u001b[0m\u001b[0mkwargs\u001b[0m\u001b[0;34m)\u001b[0m\u001b[0;34m\u001b[0m\u001b[0;34m\u001b[0m\u001b[0m\n\u001b[0m\u001b[1;32m   2033\u001b[0m \u001b[0;34m\u001b[0m\u001b[0m\n",
      "\u001b[0;32m~/.pyenv/versions/3.10.0/envs/bda-venv/lib/python3.10/site-packages/pandas/core/arraylike.py\u001b[0m in \u001b[0;36marray_ufunc\u001b[0;34m(self, ufunc, method, *inputs, **kwargs)\u001b[0m\n\u001b[1;32m    371\u001b[0m             \u001b[0mmgr\u001b[0m \u001b[0;34m=\u001b[0m \u001b[0minputs\u001b[0m\u001b[0;34m[\u001b[0m\u001b[0;36m0\u001b[0m\u001b[0;34m]\u001b[0m\u001b[0;34m.\u001b[0m\u001b[0m_mgr\u001b[0m\u001b[0;34m\u001b[0m\u001b[0;34m\u001b[0m\u001b[0m\n\u001b[0;32m--> 372\u001b[0;31m             \u001b[0mresult\u001b[0m \u001b[0;34m=\u001b[0m \u001b[0mmgr\u001b[0m\u001b[0;34m.\u001b[0m\u001b[0mapply\u001b[0m\u001b[0;34m(\u001b[0m\u001b[0mgetattr\u001b[0m\u001b[0;34m(\u001b[0m\u001b[0mufunc\u001b[0m\u001b[0;34m,\u001b[0m \u001b[0mmethod\u001b[0m\u001b[0;34m)\u001b[0m\u001b[0;34m)\u001b[0m\u001b[0;34m\u001b[0m\u001b[0;34m\u001b[0m\u001b[0m\n\u001b[0m\u001b[1;32m    373\u001b[0m         \u001b[0;32melse\u001b[0m\u001b[0;34m:\u001b[0m\u001b[0;34m\u001b[0m\u001b[0;34m\u001b[0m\u001b[0m\n",
      "\u001b[0;32m~/.pyenv/versions/3.10.0/envs/bda-venv/lib/python3.10/site-packages/pandas/core/internals/managers.py\u001b[0m in \u001b[0;36mapply\u001b[0;34m(self, f, align_keys, ignore_failures, **kwargs)\u001b[0m\n\u001b[1;32m    324\u001b[0m                 \u001b[0;32mif\u001b[0m \u001b[0mcallable\u001b[0m\u001b[0;34m(\u001b[0m\u001b[0mf\u001b[0m\u001b[0;34m)\u001b[0m\u001b[0;34m:\u001b[0m\u001b[0;34m\u001b[0m\u001b[0;34m\u001b[0m\u001b[0m\n\u001b[0;32m--> 325\u001b[0;31m                     \u001b[0mapplied\u001b[0m \u001b[0;34m=\u001b[0m \u001b[0mb\u001b[0m\u001b[0;34m.\u001b[0m\u001b[0mapply\u001b[0m\u001b[0;34m(\u001b[0m\u001b[0mf\u001b[0m\u001b[0;34m,\u001b[0m \u001b[0;34m**\u001b[0m\u001b[0mkwargs\u001b[0m\u001b[0;34m)\u001b[0m\u001b[0;34m\u001b[0m\u001b[0;34m\u001b[0m\u001b[0m\n\u001b[0m\u001b[1;32m    326\u001b[0m                 \u001b[0;32melse\u001b[0m\u001b[0;34m:\u001b[0m\u001b[0;34m\u001b[0m\u001b[0;34m\u001b[0m\u001b[0m\n",
      "\u001b[0;32m~/.pyenv/versions/3.10.0/envs/bda-venv/lib/python3.10/site-packages/pandas/core/internals/blocks.py\u001b[0m in \u001b[0;36mapply\u001b[0;34m(self, func, **kwargs)\u001b[0m\n\u001b[1;32m    380\u001b[0m         \u001b[0;32mwith\u001b[0m \u001b[0mnp\u001b[0m\u001b[0;34m.\u001b[0m\u001b[0merrstate\u001b[0m\u001b[0;34m(\u001b[0m\u001b[0mall\u001b[0m\u001b[0;34m=\u001b[0m\u001b[0;34m\"ignore\"\u001b[0m\u001b[0;34m)\u001b[0m\u001b[0;34m:\u001b[0m\u001b[0;34m\u001b[0m\u001b[0;34m\u001b[0m\u001b[0m\n\u001b[0;32m--> 381\u001b[0;31m             \u001b[0mresult\u001b[0m \u001b[0;34m=\u001b[0m \u001b[0mfunc\u001b[0m\u001b[0;34m(\u001b[0m\u001b[0mself\u001b[0m\u001b[0;34m.\u001b[0m\u001b[0mvalues\u001b[0m\u001b[0;34m,\u001b[0m \u001b[0;34m**\u001b[0m\u001b[0mkwargs\u001b[0m\u001b[0;34m)\u001b[0m\u001b[0;34m\u001b[0m\u001b[0;34m\u001b[0m\u001b[0m\n\u001b[0m\u001b[1;32m    382\u001b[0m \u001b[0;34m\u001b[0m\u001b[0m\n",
      "\u001b[0;31mTypeError\u001b[0m: ufunc 'isfinite' not supported for the input types, and the inputs could not be safely coerced to any supported types according to the casting rule ''safe''",
      "\nDuring handling of the above exception, another exception occurred:\n",
      "\u001b[0;31mValueError\u001b[0m                                Traceback (most recent call last)",
      "\u001b[0;32m/var/folders/nc/dhtws2m1317bwzbsxq9n3_gc0000gn/T/ipykernel_25156/1792664286.py\u001b[0m in \u001b[0;36m<module>\u001b[0;34m\u001b[0m\n\u001b[1;32m      2\u001b[0m     \u001b[0mstan_file\u001b[0m\u001b[0;34m=\u001b[0m\u001b[0;34m'modelling/stan_models/hierarchical_v5.stan'\u001b[0m\u001b[0;34m,\u001b[0m\u001b[0;34m\u001b[0m\u001b[0;34m\u001b[0m\u001b[0m\n\u001b[1;32m      3\u001b[0m     cpp_options={\"STAN_THREADS\": True})\n\u001b[0;32m----> 4\u001b[0;31m hier_fit = hier_model.sample(\n\u001b[0m\u001b[1;32m      5\u001b[0m     \u001b[0mhier_input\u001b[0m\u001b[0;34m,\u001b[0m\u001b[0;34m\u001b[0m\u001b[0;34m\u001b[0m\u001b[0m\n\u001b[1;32m      6\u001b[0m     \u001b[0mshow_progress\u001b[0m\u001b[0;34m=\u001b[0m\u001b[0;34m'notebook'\u001b[0m\u001b[0;34m,\u001b[0m\u001b[0;34m\u001b[0m\u001b[0;34m\u001b[0m\u001b[0m\n",
      "\u001b[0;32m~/.pyenv/versions/3.10.0/envs/bda-venv/lib/python3.10/site-packages/cmdstanpy/model.py\u001b[0m in \u001b[0;36msample\u001b[0;34m(self, data, chains, parallel_chains, threads_per_chain, seed, chain_ids, inits, iter_warmup, iter_sampling, save_warmup, thin, max_treedepth, metric, step_size, adapt_engaged, adapt_delta, adapt_init_phase, adapt_metric_window, adapt_step_size, fixed_param, output_dir, sig_figs, save_diagnostics, save_profile, show_progress, refresh)\u001b[0m\n\u001b[1;32m    811\u001b[0m             \u001b[0mfixed_param\u001b[0m\u001b[0;34m=\u001b[0m\u001b[0mfixed_param\u001b[0m\u001b[0;34m,\u001b[0m\u001b[0;34m\u001b[0m\u001b[0;34m\u001b[0m\u001b[0m\n\u001b[1;32m    812\u001b[0m         )\n\u001b[0;32m--> 813\u001b[0;31m         \u001b[0;32mwith\u001b[0m \u001b[0mMaybeDictToFilePath\u001b[0m\u001b[0;34m(\u001b[0m\u001b[0mdata\u001b[0m\u001b[0;34m,\u001b[0m \u001b[0minits\u001b[0m\u001b[0;34m)\u001b[0m \u001b[0;32mas\u001b[0m \u001b[0;34m(\u001b[0m\u001b[0m_data\u001b[0m\u001b[0;34m,\u001b[0m \u001b[0m_inits\u001b[0m\u001b[0;34m)\u001b[0m\u001b[0;34m:\u001b[0m\u001b[0;34m\u001b[0m\u001b[0;34m\u001b[0m\u001b[0m\n\u001b[0m\u001b[1;32m    814\u001b[0m             args = CmdStanArgs(\n\u001b[1;32m    815\u001b[0m                 \u001b[0mself\u001b[0m\u001b[0;34m.\u001b[0m\u001b[0m_name\u001b[0m\u001b[0;34m,\u001b[0m\u001b[0;34m\u001b[0m\u001b[0;34m\u001b[0m\u001b[0m\n",
      "\u001b[0;32m~/.pyenv/versions/3.10.0/envs/bda-venv/lib/python3.10/site-packages/cmdstanpy/utils.py\u001b[0m in \u001b[0;36m__init__\u001b[0;34m(self, *objs)\u001b[0m\n\u001b[1;32m   1175\u001b[0m                 )\n\u001b[1;32m   1176\u001b[0m                 \u001b[0mget_logger\u001b[0m\u001b[0;34m(\u001b[0m\u001b[0;34m)\u001b[0m\u001b[0;34m.\u001b[0m\u001b[0mdebug\u001b[0m\u001b[0;34m(\u001b[0m\u001b[0;34m'input tempfile: %s'\u001b[0m\u001b[0;34m,\u001b[0m \u001b[0mdata_file\u001b[0m\u001b[0;34m)\u001b[0m\u001b[0;34m\u001b[0m\u001b[0;34m\u001b[0m\u001b[0m\n\u001b[0;32m-> 1177\u001b[0;31m                 \u001b[0mwrite_stan_json\u001b[0m\u001b[0;34m(\u001b[0m\u001b[0mdata_file\u001b[0m\u001b[0;34m,\u001b[0m \u001b[0mobj\u001b[0m\u001b[0;34m)\u001b[0m\u001b[0;34m\u001b[0m\u001b[0;34m\u001b[0m\u001b[0m\n\u001b[0m\u001b[1;32m   1178\u001b[0m                 \u001b[0mself\u001b[0m\u001b[0;34m.\u001b[0m\u001b[0m_paths\u001b[0m\u001b[0;34m[\u001b[0m\u001b[0mi\u001b[0m\u001b[0;34m]\u001b[0m \u001b[0;34m=\u001b[0m \u001b[0mdata_file\u001b[0m\u001b[0;34m\u001b[0m\u001b[0;34m\u001b[0m\u001b[0m\n\u001b[1;32m   1179\u001b[0m                 \u001b[0mself\u001b[0m\u001b[0;34m.\u001b[0m\u001b[0m_unlink\u001b[0m\u001b[0;34m[\u001b[0m\u001b[0mi\u001b[0m\u001b[0;34m]\u001b[0m \u001b[0;34m=\u001b[0m \u001b[0;32mTrue\u001b[0m\u001b[0;34m\u001b[0m\u001b[0;34m\u001b[0m\u001b[0m\n",
      "\u001b[0;32m~/.pyenv/versions/3.10.0/envs/bda-venv/lib/python3.10/site-packages/cmdstanpy/utils.py\u001b[0m in \u001b[0;36mwrite_stan_json\u001b[0;34m(path, data)\u001b[0m\n\u001b[1;32m    427\u001b[0m                 \u001b[0;31m# handles cases like val == ['hello']\u001b[0m\u001b[0;34m\u001b[0m\u001b[0;34m\u001b[0m\u001b[0m\n\u001b[1;32m    428\u001b[0m                 \u001b[0;31m# pylint: disable=raise-missing-from\u001b[0m\u001b[0;34m\u001b[0m\u001b[0;34m\u001b[0m\u001b[0m\n\u001b[0;32m--> 429\u001b[0;31m                 raise ValueError(\n\u001b[0m\u001b[1;32m    430\u001b[0m                     \u001b[0;34m\"Invalid type provided to \"\u001b[0m\u001b[0;34m\u001b[0m\u001b[0;34m\u001b[0m\u001b[0m\n\u001b[1;32m    431\u001b[0m                     \u001b[0;34m+\u001b[0m \u001b[0;34mf\"write_stan_json for key '{key}' \"\u001b[0m\u001b[0;34m\u001b[0m\u001b[0;34m\u001b[0m\u001b[0m\n",
      "\u001b[0;31mValueError\u001b[0m: Invalid type provided to write_stan_json for key 'index_mapping' as part of collection <class 'pandas.core.frame.DataFrame'>"
     ]
    }
   ],
   "source": [
    "hier_model = stan.CmdStanModel(\n",
    "    stan_file='modelling/stan_models/hierarchical_v5.stan',\n",
    "    cpp_options={\"STAN_THREADS\": True})\n",
    "hier_fit = hier_model.sample(\n",
    "    hier_input,\n",
    "    show_progress='notebook',\n",
    "    output_dir='./logs',\n",
    "    iter_sampling=4000,\n",
    "    threads_per_chain=4)\n",
    "hier_summary = hier_fit.summary()"
   ]
  },
  {
   "cell_type": "code",
   "execution_count": 99,
   "metadata": {},
   "outputs": [
    {
     "data": {
      "text/plain": [
       "1    496\n",
       "3    203\n",
       "2    173\n",
       "4     46\n",
       "dtype: int64"
      ]
     },
     "execution_count": 99,
     "metadata": {},
     "output_type": "execute_result"
    }
   ],
   "source": [
    "hier_data['gj'].value_counts()"
   ]
  },
  {
   "cell_type": "code",
   "execution_count": 100,
   "metadata": {},
   "outputs": [
    {
     "data": {
      "text/plain": [
       "1.0"
      ]
     },
     "execution_count": 100,
     "metadata": {},
     "output_type": "execute_result"
    }
   ],
   "source": [
    "hier_summary['R_hat'].max()"
   ]
  },
  {
   "cell_type": "code",
   "execution_count": 20,
   "metadata": {},
   "outputs": [
    {
     "data": {
      "text/plain": [
       "dict_keys(['alpha_mu', 'alpha_sigma', 'beta_mu', 'beta_sigma', 'alpha', 'beta'])"
      ]
     },
     "execution_count": 20,
     "metadata": {},
     "output_type": "execute_result"
    }
   ],
   "source": [
    "hier_fit.stan_variables().keys()"
   ]
  },
  {
   "cell_type": "code",
   "execution_count": 25,
   "metadata": {},
   "outputs": [
    {
     "data": {
      "text/html": [
       "<div>\n",
       "<style scoped>\n",
       "    .dataframe tbody tr th:only-of-type {\n",
       "        vertical-align: middle;\n",
       "    }\n",
       "\n",
       "    .dataframe tbody tr th {\n",
       "        vertical-align: top;\n",
       "    }\n",
       "\n",
       "    .dataframe thead th {\n",
       "        text-align: right;\n",
       "    }\n",
       "</style>\n",
       "<table border=\"1\" class=\"dataframe\">\n",
       "  <thead>\n",
       "    <tr style=\"text-align: right;\">\n",
       "      <th></th>\n",
       "      <th>Mean</th>\n",
       "      <th>MCSE</th>\n",
       "      <th>StdDev</th>\n",
       "      <th>5%</th>\n",
       "      <th>50%</th>\n",
       "      <th>95%</th>\n",
       "      <th>N_Eff</th>\n",
       "      <th>N_Eff/s</th>\n",
       "      <th>R_hat</th>\n",
       "    </tr>\n",
       "    <tr>\n",
       "      <th>name</th>\n",
       "      <th></th>\n",
       "      <th></th>\n",
       "      <th></th>\n",
       "      <th></th>\n",
       "      <th></th>\n",
       "      <th></th>\n",
       "      <th></th>\n",
       "      <th></th>\n",
       "      <th></th>\n",
       "    </tr>\n",
       "  </thead>\n",
       "  <tbody>\n",
       "    <tr>\n",
       "      <th>alpha[1]</th>\n",
       "      <td>-0.600</td>\n",
       "      <td>0.0230</td>\n",
       "      <td>0.77</td>\n",
       "      <td>-1.9000</td>\n",
       "      <td>-0.620</td>\n",
       "      <td>0.670</td>\n",
       "      <td>1108.0</td>\n",
       "      <td>5.00</td>\n",
       "      <td>1.0</td>\n",
       "    </tr>\n",
       "    <tr>\n",
       "      <th>alpha[2]</th>\n",
       "      <td>-1.300</td>\n",
       "      <td>0.0260</td>\n",
       "      <td>0.83</td>\n",
       "      <td>-2.7000</td>\n",
       "      <td>-1.300</td>\n",
       "      <td>0.004</td>\n",
       "      <td>982.0</td>\n",
       "      <td>4.40</td>\n",
       "      <td>1.0</td>\n",
       "    </tr>\n",
       "    <tr>\n",
       "      <th>alpha[3]</th>\n",
       "      <td>-1.200</td>\n",
       "      <td>0.0500</td>\n",
       "      <td>0.80</td>\n",
       "      <td>-2.5000</td>\n",
       "      <td>-1.200</td>\n",
       "      <td>0.130</td>\n",
       "      <td>259.0</td>\n",
       "      <td>1.20</td>\n",
       "      <td>1.0</td>\n",
       "    </tr>\n",
       "    <tr>\n",
       "      <th>alpha[4]</th>\n",
       "      <td>-1.000</td>\n",
       "      <td>0.0430</td>\n",
       "      <td>0.84</td>\n",
       "      <td>-2.3000</td>\n",
       "      <td>-1.000</td>\n",
       "      <td>0.310</td>\n",
       "      <td>376.0</td>\n",
       "      <td>1.70</td>\n",
       "      <td>1.0</td>\n",
       "    </tr>\n",
       "    <tr>\n",
       "      <th>beta[1,1]</th>\n",
       "      <td>0.078</td>\n",
       "      <td>0.0045</td>\n",
       "      <td>0.16</td>\n",
       "      <td>-0.1900</td>\n",
       "      <td>0.089</td>\n",
       "      <td>0.320</td>\n",
       "      <td>1239.0</td>\n",
       "      <td>5.60</td>\n",
       "      <td>1.0</td>\n",
       "    </tr>\n",
       "    <tr>\n",
       "      <th>beta[1,2]</th>\n",
       "      <td>0.068</td>\n",
       "      <td>0.0033</td>\n",
       "      <td>0.14</td>\n",
       "      <td>-0.1600</td>\n",
       "      <td>0.071</td>\n",
       "      <td>0.290</td>\n",
       "      <td>1791.0</td>\n",
       "      <td>8.10</td>\n",
       "      <td>1.0</td>\n",
       "    </tr>\n",
       "    <tr>\n",
       "      <th>beta[1,3]</th>\n",
       "      <td>-0.530</td>\n",
       "      <td>0.0083</td>\n",
       "      <td>0.15</td>\n",
       "      <td>-0.7800</td>\n",
       "      <td>-0.530</td>\n",
       "      <td>-0.280</td>\n",
       "      <td>327.0</td>\n",
       "      <td>1.50</td>\n",
       "      <td>1.0</td>\n",
       "    </tr>\n",
       "    <tr>\n",
       "      <th>beta[1,4]</th>\n",
       "      <td>0.037</td>\n",
       "      <td>0.0180</td>\n",
       "      <td>0.18</td>\n",
       "      <td>-0.2500</td>\n",
       "      <td>0.027</td>\n",
       "      <td>0.370</td>\n",
       "      <td>104.0</td>\n",
       "      <td>0.47</td>\n",
       "      <td>1.0</td>\n",
       "    </tr>\n",
       "    <tr>\n",
       "      <th>beta[1,5]</th>\n",
       "      <td>0.510</td>\n",
       "      <td>0.0034</td>\n",
       "      <td>0.16</td>\n",
       "      <td>0.2500</td>\n",
       "      <td>0.510</td>\n",
       "      <td>0.770</td>\n",
       "      <td>2049.0</td>\n",
       "      <td>9.20</td>\n",
       "      <td>1.0</td>\n",
       "    </tr>\n",
       "    <tr>\n",
       "      <th>beta[1,6]</th>\n",
       "      <td>1.700</td>\n",
       "      <td>0.0092</td>\n",
       "      <td>0.32</td>\n",
       "      <td>1.2000</td>\n",
       "      <td>1.600</td>\n",
       "      <td>2.200</td>\n",
       "      <td>1210.0</td>\n",
       "      <td>5.40</td>\n",
       "      <td>1.0</td>\n",
       "    </tr>\n",
       "    <tr>\n",
       "      <th>beta[1,7]</th>\n",
       "      <td>1.500</td>\n",
       "      <td>0.0230</td>\n",
       "      <td>0.41</td>\n",
       "      <td>0.8500</td>\n",
       "      <td>1.500</td>\n",
       "      <td>2.200</td>\n",
       "      <td>327.0</td>\n",
       "      <td>1.50</td>\n",
       "      <td>1.0</td>\n",
       "    </tr>\n",
       "    <tr>\n",
       "      <th>beta[1,8]</th>\n",
       "      <td>1.000</td>\n",
       "      <td>0.0200</td>\n",
       "      <td>0.32</td>\n",
       "      <td>0.5100</td>\n",
       "      <td>0.990</td>\n",
       "      <td>1.600</td>\n",
       "      <td>253.0</td>\n",
       "      <td>1.10</td>\n",
       "      <td>1.0</td>\n",
       "    </tr>\n",
       "    <tr>\n",
       "      <th>beta[1,9]</th>\n",
       "      <td>-0.082</td>\n",
       "      <td>0.0610</td>\n",
       "      <td>0.70</td>\n",
       "      <td>-1.3000</td>\n",
       "      <td>-0.078</td>\n",
       "      <td>1.100</td>\n",
       "      <td>128.0</td>\n",
       "      <td>0.58</td>\n",
       "      <td>1.0</td>\n",
       "    </tr>\n",
       "    <tr>\n",
       "      <th>beta[1,10]</th>\n",
       "      <td>-0.450</td>\n",
       "      <td>0.0430</td>\n",
       "      <td>0.68</td>\n",
       "      <td>-1.7000</td>\n",
       "      <td>-0.430</td>\n",
       "      <td>0.580</td>\n",
       "      <td>243.0</td>\n",
       "      <td>1.10</td>\n",
       "      <td>1.0</td>\n",
       "    </tr>\n",
       "    <tr>\n",
       "      <th>beta[1,11]</th>\n",
       "      <td>0.530</td>\n",
       "      <td>0.0310</td>\n",
       "      <td>0.71</td>\n",
       "      <td>-0.6000</td>\n",
       "      <td>0.520</td>\n",
       "      <td>1.700</td>\n",
       "      <td>538.0</td>\n",
       "      <td>2.40</td>\n",
       "      <td>1.0</td>\n",
       "    </tr>\n",
       "    <tr>\n",
       "      <th>beta[1,12]</th>\n",
       "      <td>-1.600</td>\n",
       "      <td>0.0270</td>\n",
       "      <td>0.63</td>\n",
       "      <td>-2.5000</td>\n",
       "      <td>-1.500</td>\n",
       "      <td>-0.510</td>\n",
       "      <td>557.0</td>\n",
       "      <td>2.50</td>\n",
       "      <td>1.0</td>\n",
       "    </tr>\n",
       "    <tr>\n",
       "      <th>beta[1,13]</th>\n",
       "      <td>0.890</td>\n",
       "      <td>0.0140</td>\n",
       "      <td>0.59</td>\n",
       "      <td>-0.0690</td>\n",
       "      <td>0.890</td>\n",
       "      <td>1.900</td>\n",
       "      <td>1880.0</td>\n",
       "      <td>8.50</td>\n",
       "      <td>1.0</td>\n",
       "    </tr>\n",
       "    <tr>\n",
       "      <th>beta[1,14]</th>\n",
       "      <td>-0.320</td>\n",
       "      <td>0.0500</td>\n",
       "      <td>0.72</td>\n",
       "      <td>-1.5000</td>\n",
       "      <td>-0.300</td>\n",
       "      <td>0.820</td>\n",
       "      <td>205.0</td>\n",
       "      <td>0.92</td>\n",
       "      <td>1.0</td>\n",
       "    </tr>\n",
       "    <tr>\n",
       "      <th>beta[2,1]</th>\n",
       "      <td>0.410</td>\n",
       "      <td>0.0160</td>\n",
       "      <td>0.32</td>\n",
       "      <td>-0.0260</td>\n",
       "      <td>0.360</td>\n",
       "      <td>0.990</td>\n",
       "      <td>423.0</td>\n",
       "      <td>1.90</td>\n",
       "      <td>1.0</td>\n",
       "    </tr>\n",
       "    <tr>\n",
       "      <th>beta[2,2]</th>\n",
       "      <td>0.320</td>\n",
       "      <td>0.0460</td>\n",
       "      <td>0.31</td>\n",
       "      <td>-0.0840</td>\n",
       "      <td>0.260</td>\n",
       "      <td>1.000</td>\n",
       "      <td>47.0</td>\n",
       "      <td>0.21</td>\n",
       "      <td>1.1</td>\n",
       "    </tr>\n",
       "    <tr>\n",
       "      <th>beta[2,3]</th>\n",
       "      <td>-0.180</td>\n",
       "      <td>0.0078</td>\n",
       "      <td>0.36</td>\n",
       "      <td>-0.6600</td>\n",
       "      <td>-0.230</td>\n",
       "      <td>0.520</td>\n",
       "      <td>2159.0</td>\n",
       "      <td>9.70</td>\n",
       "      <td>1.0</td>\n",
       "    </tr>\n",
       "    <tr>\n",
       "      <th>beta[2,4]</th>\n",
       "      <td>-0.260</td>\n",
       "      <td>0.0071</td>\n",
       "      <td>0.28</td>\n",
       "      <td>-0.7500</td>\n",
       "      <td>-0.230</td>\n",
       "      <td>0.170</td>\n",
       "      <td>1523.0</td>\n",
       "      <td>6.90</td>\n",
       "      <td>1.0</td>\n",
       "    </tr>\n",
       "    <tr>\n",
       "      <th>beta[2,5]</th>\n",
       "      <td>0.530</td>\n",
       "      <td>0.0120</td>\n",
       "      <td>0.30</td>\n",
       "      <td>0.0550</td>\n",
       "      <td>0.520</td>\n",
       "      <td>1.100</td>\n",
       "      <td>603.0</td>\n",
       "      <td>2.70</td>\n",
       "      <td>1.0</td>\n",
       "    </tr>\n",
       "    <tr>\n",
       "      <th>beta[2,6]</th>\n",
       "      <td>1.400</td>\n",
       "      <td>0.0160</td>\n",
       "      <td>0.46</td>\n",
       "      <td>0.5600</td>\n",
       "      <td>1.400</td>\n",
       "      <td>2.100</td>\n",
       "      <td>871.0</td>\n",
       "      <td>3.90</td>\n",
       "      <td>1.0</td>\n",
       "    </tr>\n",
       "    <tr>\n",
       "      <th>beta[2,7]</th>\n",
       "      <td>0.910</td>\n",
       "      <td>0.0200</td>\n",
       "      <td>0.60</td>\n",
       "      <td>-0.1200</td>\n",
       "      <td>0.930</td>\n",
       "      <td>1.900</td>\n",
       "      <td>883.0</td>\n",
       "      <td>4.00</td>\n",
       "      <td>1.0</td>\n",
       "    </tr>\n",
       "    <tr>\n",
       "      <th>beta[2,8]</th>\n",
       "      <td>0.660</td>\n",
       "      <td>0.0180</td>\n",
       "      <td>0.50</td>\n",
       "      <td>-0.1700</td>\n",
       "      <td>0.690</td>\n",
       "      <td>1.500</td>\n",
       "      <td>828.0</td>\n",
       "      <td>3.70</td>\n",
       "      <td>1.0</td>\n",
       "    </tr>\n",
       "    <tr>\n",
       "      <th>beta[2,9]</th>\n",
       "      <td>-0.780</td>\n",
       "      <td>0.0510</td>\n",
       "      <td>0.77</td>\n",
       "      <td>-2.1000</td>\n",
       "      <td>-0.760</td>\n",
       "      <td>0.430</td>\n",
       "      <td>228.0</td>\n",
       "      <td>1.00</td>\n",
       "      <td>1.0</td>\n",
       "    </tr>\n",
       "    <tr>\n",
       "      <th>beta[2,10]</th>\n",
       "      <td>-0.380</td>\n",
       "      <td>0.0230</td>\n",
       "      <td>0.71</td>\n",
       "      <td>-1.6000</td>\n",
       "      <td>-0.340</td>\n",
       "      <td>0.720</td>\n",
       "      <td>929.0</td>\n",
       "      <td>4.20</td>\n",
       "      <td>1.0</td>\n",
       "    </tr>\n",
       "    <tr>\n",
       "      <th>beta[2,11]</th>\n",
       "      <td>0.360</td>\n",
       "      <td>0.0410</td>\n",
       "      <td>0.84</td>\n",
       "      <td>-1.0000</td>\n",
       "      <td>0.330</td>\n",
       "      <td>1.700</td>\n",
       "      <td>432.0</td>\n",
       "      <td>1.90</td>\n",
       "      <td>1.0</td>\n",
       "    </tr>\n",
       "    <tr>\n",
       "      <th>beta[2,12]</th>\n",
       "      <td>-2.100</td>\n",
       "      <td>0.0140</td>\n",
       "      <td>0.73</td>\n",
       "      <td>-3.3000</td>\n",
       "      <td>-2.000</td>\n",
       "      <td>-0.920</td>\n",
       "      <td>2579.0</td>\n",
       "      <td>12.00</td>\n",
       "      <td>1.0</td>\n",
       "    </tr>\n",
       "    <tr>\n",
       "      <th>beta[2,13]</th>\n",
       "      <td>0.870</td>\n",
       "      <td>0.0150</td>\n",
       "      <td>0.65</td>\n",
       "      <td>-0.1800</td>\n",
       "      <td>0.870</td>\n",
       "      <td>1.900</td>\n",
       "      <td>1767.0</td>\n",
       "      <td>7.90</td>\n",
       "      <td>1.0</td>\n",
       "    </tr>\n",
       "    <tr>\n",
       "      <th>beta[2,14]</th>\n",
       "      <td>-0.300</td>\n",
       "      <td>0.0240</td>\n",
       "      <td>0.82</td>\n",
       "      <td>-1.6000</td>\n",
       "      <td>-0.310</td>\n",
       "      <td>1.100</td>\n",
       "      <td>1174.0</td>\n",
       "      <td>5.30</td>\n",
       "      <td>1.0</td>\n",
       "    </tr>\n",
       "    <tr>\n",
       "      <th>beta[3,1]</th>\n",
       "      <td>0.300</td>\n",
       "      <td>0.0050</td>\n",
       "      <td>0.22</td>\n",
       "      <td>-0.0400</td>\n",
       "      <td>0.290</td>\n",
       "      <td>0.700</td>\n",
       "      <td>1991.0</td>\n",
       "      <td>9.00</td>\n",
       "      <td>1.0</td>\n",
       "    </tr>\n",
       "    <tr>\n",
       "      <th>beta[3,2]</th>\n",
       "      <td>0.084</td>\n",
       "      <td>0.0026</td>\n",
       "      <td>0.16</td>\n",
       "      <td>-0.1900</td>\n",
       "      <td>0.080</td>\n",
       "      <td>0.350</td>\n",
       "      <td>4077.0</td>\n",
       "      <td>18.00</td>\n",
       "      <td>1.0</td>\n",
       "    </tr>\n",
       "    <tr>\n",
       "      <th>beta[3,3]</th>\n",
       "      <td>-0.420</td>\n",
       "      <td>0.0094</td>\n",
       "      <td>0.20</td>\n",
       "      <td>-0.7300</td>\n",
       "      <td>-0.430</td>\n",
       "      <td>-0.088</td>\n",
       "      <td>446.0</td>\n",
       "      <td>2.00</td>\n",
       "      <td>1.0</td>\n",
       "    </tr>\n",
       "    <tr>\n",
       "      <th>beta[3,4]</th>\n",
       "      <td>-0.320</td>\n",
       "      <td>0.0150</td>\n",
       "      <td>0.25</td>\n",
       "      <td>-0.7400</td>\n",
       "      <td>-0.300</td>\n",
       "      <td>0.051</td>\n",
       "      <td>260.0</td>\n",
       "      <td>1.20</td>\n",
       "      <td>1.0</td>\n",
       "    </tr>\n",
       "    <tr>\n",
       "      <th>beta[3,5]</th>\n",
       "      <td>0.440</td>\n",
       "      <td>0.0060</td>\n",
       "      <td>0.20</td>\n",
       "      <td>0.0950</td>\n",
       "      <td>0.440</td>\n",
       "      <td>0.760</td>\n",
       "      <td>1097.0</td>\n",
       "      <td>4.90</td>\n",
       "      <td>1.0</td>\n",
       "    </tr>\n",
       "    <tr>\n",
       "      <th>beta[3,6]</th>\n",
       "      <td>1.400</td>\n",
       "      <td>0.0150</td>\n",
       "      <td>0.40</td>\n",
       "      <td>0.7100</td>\n",
       "      <td>1.400</td>\n",
       "      <td>2.000</td>\n",
       "      <td>734.0</td>\n",
       "      <td>3.30</td>\n",
       "      <td>1.0</td>\n",
       "    </tr>\n",
       "    <tr>\n",
       "      <th>beta[3,7]</th>\n",
       "      <td>0.650</td>\n",
       "      <td>0.0330</td>\n",
       "      <td>0.51</td>\n",
       "      <td>-0.2200</td>\n",
       "      <td>0.670</td>\n",
       "      <td>1.500</td>\n",
       "      <td>229.0</td>\n",
       "      <td>1.00</td>\n",
       "      <td>1.0</td>\n",
       "    </tr>\n",
       "    <tr>\n",
       "      <th>beta[3,8]</th>\n",
       "      <td>0.650</td>\n",
       "      <td>0.0130</td>\n",
       "      <td>0.40</td>\n",
       "      <td>0.0078</td>\n",
       "      <td>0.670</td>\n",
       "      <td>1.300</td>\n",
       "      <td>913.0</td>\n",
       "      <td>4.10</td>\n",
       "      <td>1.0</td>\n",
       "    </tr>\n",
       "    <tr>\n",
       "      <th>beta[3,9]</th>\n",
       "      <td>-0.430</td>\n",
       "      <td>0.0390</td>\n",
       "      <td>0.69</td>\n",
       "      <td>-1.5000</td>\n",
       "      <td>-0.410</td>\n",
       "      <td>0.610</td>\n",
       "      <td>307.0</td>\n",
       "      <td>1.40</td>\n",
       "      <td>1.0</td>\n",
       "    </tr>\n",
       "    <tr>\n",
       "      <th>beta[3,10]</th>\n",
       "      <td>-0.180</td>\n",
       "      <td>0.0290</td>\n",
       "      <td>0.70</td>\n",
       "      <td>-1.4000</td>\n",
       "      <td>-0.160</td>\n",
       "      <td>0.980</td>\n",
       "      <td>593.0</td>\n",
       "      <td>2.70</td>\n",
       "      <td>1.0</td>\n",
       "    </tr>\n",
       "    <tr>\n",
       "      <th>beta[3,11]</th>\n",
       "      <td>-1.200</td>\n",
       "      <td>0.0570</td>\n",
       "      <td>0.84</td>\n",
       "      <td>-2.7000</td>\n",
       "      <td>-1.200</td>\n",
       "      <td>0.100</td>\n",
       "      <td>217.0</td>\n",
       "      <td>0.98</td>\n",
       "      <td>1.0</td>\n",
       "    </tr>\n",
       "    <tr>\n",
       "      <th>beta[3,12]</th>\n",
       "      <td>-1.800</td>\n",
       "      <td>0.0210</td>\n",
       "      <td>0.67</td>\n",
       "      <td>-2.9000</td>\n",
       "      <td>-1.800</td>\n",
       "      <td>-0.780</td>\n",
       "      <td>1031.0</td>\n",
       "      <td>4.60</td>\n",
       "      <td>1.0</td>\n",
       "    </tr>\n",
       "    <tr>\n",
       "      <th>beta[3,13]</th>\n",
       "      <td>0.940</td>\n",
       "      <td>0.0250</td>\n",
       "      <td>0.62</td>\n",
       "      <td>-0.0810</td>\n",
       "      <td>0.940</td>\n",
       "      <td>1.900</td>\n",
       "      <td>623.0</td>\n",
       "      <td>2.80</td>\n",
       "      <td>1.0</td>\n",
       "    </tr>\n",
       "    <tr>\n",
       "      <th>beta[3,14]</th>\n",
       "      <td>-0.420</td>\n",
       "      <td>0.0170</td>\n",
       "      <td>0.74</td>\n",
       "      <td>-1.6000</td>\n",
       "      <td>-0.430</td>\n",
       "      <td>0.790</td>\n",
       "      <td>1882.0</td>\n",
       "      <td>8.50</td>\n",
       "      <td>1.0</td>\n",
       "    </tr>\n",
       "    <tr>\n",
       "      <th>beta[4,1]</th>\n",
       "      <td>-0.014</td>\n",
       "      <td>0.0071</td>\n",
       "      <td>0.31</td>\n",
       "      <td>-0.5800</td>\n",
       "      <td>0.027</td>\n",
       "      <td>0.420</td>\n",
       "      <td>1918.0</td>\n",
       "      <td>8.60</td>\n",
       "      <td>1.0</td>\n",
       "    </tr>\n",
       "    <tr>\n",
       "      <th>beta[4,2]</th>\n",
       "      <td>0.080</td>\n",
       "      <td>0.0053</td>\n",
       "      <td>0.26</td>\n",
       "      <td>-0.3900</td>\n",
       "      <td>0.099</td>\n",
       "      <td>0.480</td>\n",
       "      <td>2455.0</td>\n",
       "      <td>11.00</td>\n",
       "      <td>1.0</td>\n",
       "    </tr>\n",
       "    <tr>\n",
       "      <th>beta[4,3]</th>\n",
       "      <td>-0.530</td>\n",
       "      <td>0.0150</td>\n",
       "      <td>0.34</td>\n",
       "      <td>-1.2000</td>\n",
       "      <td>-0.500</td>\n",
       "      <td>-0.068</td>\n",
       "      <td>492.0</td>\n",
       "      <td>2.20</td>\n",
       "      <td>1.0</td>\n",
       "    </tr>\n",
       "    <tr>\n",
       "      <th>beta[4,4]</th>\n",
       "      <td>-0.300</td>\n",
       "      <td>0.0068</td>\n",
       "      <td>0.33</td>\n",
       "      <td>-0.8700</td>\n",
       "      <td>-0.290</td>\n",
       "      <td>0.170</td>\n",
       "      <td>2280.0</td>\n",
       "      <td>10.00</td>\n",
       "      <td>1.0</td>\n",
       "    </tr>\n",
       "    <tr>\n",
       "      <th>beta[4,5]</th>\n",
       "      <td>0.250</td>\n",
       "      <td>0.0200</td>\n",
       "      <td>0.33</td>\n",
       "      <td>-0.4000</td>\n",
       "      <td>0.300</td>\n",
       "      <td>0.720</td>\n",
       "      <td>280.0</td>\n",
       "      <td>1.30</td>\n",
       "      <td>1.0</td>\n",
       "    </tr>\n",
       "    <tr>\n",
       "      <th>beta[4,6]</th>\n",
       "      <td>1.600</td>\n",
       "      <td>0.0140</td>\n",
       "      <td>0.50</td>\n",
       "      <td>0.8400</td>\n",
       "      <td>1.600</td>\n",
       "      <td>2.500</td>\n",
       "      <td>1328.0</td>\n",
       "      <td>6.00</td>\n",
       "      <td>1.0</td>\n",
       "    </tr>\n",
       "    <tr>\n",
       "      <th>beta[4,7]</th>\n",
       "      <td>0.870</td>\n",
       "      <td>0.0440</td>\n",
       "      <td>0.59</td>\n",
       "      <td>-0.1200</td>\n",
       "      <td>0.900</td>\n",
       "      <td>1.800</td>\n",
       "      <td>178.0</td>\n",
       "      <td>0.80</td>\n",
       "      <td>1.0</td>\n",
       "    </tr>\n",
       "    <tr>\n",
       "      <th>beta[4,8]</th>\n",
       "      <td>0.520</td>\n",
       "      <td>0.0190</td>\n",
       "      <td>0.63</td>\n",
       "      <td>-0.6400</td>\n",
       "      <td>0.610</td>\n",
       "      <td>1.400</td>\n",
       "      <td>1090.0</td>\n",
       "      <td>4.90</td>\n",
       "      <td>1.0</td>\n",
       "    </tr>\n",
       "    <tr>\n",
       "      <th>beta[4,9]</th>\n",
       "      <td>-0.072</td>\n",
       "      <td>0.0850</td>\n",
       "      <td>0.84</td>\n",
       "      <td>-1.4000</td>\n",
       "      <td>-0.110</td>\n",
       "      <td>1.700</td>\n",
       "      <td>98.0</td>\n",
       "      <td>0.44</td>\n",
       "      <td>1.0</td>\n",
       "    </tr>\n",
       "    <tr>\n",
       "      <th>beta[4,10]</th>\n",
       "      <td>-0.240</td>\n",
       "      <td>0.0210</td>\n",
       "      <td>0.74</td>\n",
       "      <td>-1.4000</td>\n",
       "      <td>-0.240</td>\n",
       "      <td>0.960</td>\n",
       "      <td>1289.0</td>\n",
       "      <td>5.80</td>\n",
       "      <td>1.0</td>\n",
       "    </tr>\n",
       "    <tr>\n",
       "      <th>beta[4,11]</th>\n",
       "      <td>-1.400</td>\n",
       "      <td>0.1100</td>\n",
       "      <td>1.10</td>\n",
       "      <td>-3.3000</td>\n",
       "      <td>-1.400</td>\n",
       "      <td>0.550</td>\n",
       "      <td>106.0</td>\n",
       "      <td>0.48</td>\n",
       "      <td>1.0</td>\n",
       "    </tr>\n",
       "    <tr>\n",
       "      <th>beta[4,12]</th>\n",
       "      <td>-1.600</td>\n",
       "      <td>0.0330</td>\n",
       "      <td>0.72</td>\n",
       "      <td>-2.8000</td>\n",
       "      <td>-1.600</td>\n",
       "      <td>-0.440</td>\n",
       "      <td>486.0</td>\n",
       "      <td>2.20</td>\n",
       "      <td>1.0</td>\n",
       "    </tr>\n",
       "    <tr>\n",
       "      <th>beta[4,13]</th>\n",
       "      <td>0.920</td>\n",
       "      <td>0.0140</td>\n",
       "      <td>0.64</td>\n",
       "      <td>-0.1300</td>\n",
       "      <td>0.910</td>\n",
       "      <td>2.000</td>\n",
       "      <td>2237.0</td>\n",
       "      <td>10.00</td>\n",
       "      <td>1.0</td>\n",
       "    </tr>\n",
       "    <tr>\n",
       "      <th>beta[4,14]</th>\n",
       "      <td>-0.620</td>\n",
       "      <td>0.0180</td>\n",
       "      <td>0.87</td>\n",
       "      <td>-2.1000</td>\n",
       "      <td>-0.550</td>\n",
       "      <td>0.680</td>\n",
       "      <td>2369.0</td>\n",
       "      <td>11.00</td>\n",
       "      <td>1.0</td>\n",
       "    </tr>\n",
       "  </tbody>\n",
       "</table>\n",
       "</div>"
      ],
      "text/plain": [
       "             Mean    MCSE  StdDev      5%    50%    95%   N_Eff  N_Eff/s  \\\n",
       "name                                                                       \n",
       "alpha[1]   -0.600  0.0230    0.77 -1.9000 -0.620  0.670  1108.0     5.00   \n",
       "alpha[2]   -1.300  0.0260    0.83 -2.7000 -1.300  0.004   982.0     4.40   \n",
       "alpha[3]   -1.200  0.0500    0.80 -2.5000 -1.200  0.130   259.0     1.20   \n",
       "alpha[4]   -1.000  0.0430    0.84 -2.3000 -1.000  0.310   376.0     1.70   \n",
       "beta[1,1]   0.078  0.0045    0.16 -0.1900  0.089  0.320  1239.0     5.60   \n",
       "beta[1,2]   0.068  0.0033    0.14 -0.1600  0.071  0.290  1791.0     8.10   \n",
       "beta[1,3]  -0.530  0.0083    0.15 -0.7800 -0.530 -0.280   327.0     1.50   \n",
       "beta[1,4]   0.037  0.0180    0.18 -0.2500  0.027  0.370   104.0     0.47   \n",
       "beta[1,5]   0.510  0.0034    0.16  0.2500  0.510  0.770  2049.0     9.20   \n",
       "beta[1,6]   1.700  0.0092    0.32  1.2000  1.600  2.200  1210.0     5.40   \n",
       "beta[1,7]   1.500  0.0230    0.41  0.8500  1.500  2.200   327.0     1.50   \n",
       "beta[1,8]   1.000  0.0200    0.32  0.5100  0.990  1.600   253.0     1.10   \n",
       "beta[1,9]  -0.082  0.0610    0.70 -1.3000 -0.078  1.100   128.0     0.58   \n",
       "beta[1,10] -0.450  0.0430    0.68 -1.7000 -0.430  0.580   243.0     1.10   \n",
       "beta[1,11]  0.530  0.0310    0.71 -0.6000  0.520  1.700   538.0     2.40   \n",
       "beta[1,12] -1.600  0.0270    0.63 -2.5000 -1.500 -0.510   557.0     2.50   \n",
       "beta[1,13]  0.890  0.0140    0.59 -0.0690  0.890  1.900  1880.0     8.50   \n",
       "beta[1,14] -0.320  0.0500    0.72 -1.5000 -0.300  0.820   205.0     0.92   \n",
       "beta[2,1]   0.410  0.0160    0.32 -0.0260  0.360  0.990   423.0     1.90   \n",
       "beta[2,2]   0.320  0.0460    0.31 -0.0840  0.260  1.000    47.0     0.21   \n",
       "beta[2,3]  -0.180  0.0078    0.36 -0.6600 -0.230  0.520  2159.0     9.70   \n",
       "beta[2,4]  -0.260  0.0071    0.28 -0.7500 -0.230  0.170  1523.0     6.90   \n",
       "beta[2,5]   0.530  0.0120    0.30  0.0550  0.520  1.100   603.0     2.70   \n",
       "beta[2,6]   1.400  0.0160    0.46  0.5600  1.400  2.100   871.0     3.90   \n",
       "beta[2,7]   0.910  0.0200    0.60 -0.1200  0.930  1.900   883.0     4.00   \n",
       "beta[2,8]   0.660  0.0180    0.50 -0.1700  0.690  1.500   828.0     3.70   \n",
       "beta[2,9]  -0.780  0.0510    0.77 -2.1000 -0.760  0.430   228.0     1.00   \n",
       "beta[2,10] -0.380  0.0230    0.71 -1.6000 -0.340  0.720   929.0     4.20   \n",
       "beta[2,11]  0.360  0.0410    0.84 -1.0000  0.330  1.700   432.0     1.90   \n",
       "beta[2,12] -2.100  0.0140    0.73 -3.3000 -2.000 -0.920  2579.0    12.00   \n",
       "beta[2,13]  0.870  0.0150    0.65 -0.1800  0.870  1.900  1767.0     7.90   \n",
       "beta[2,14] -0.300  0.0240    0.82 -1.6000 -0.310  1.100  1174.0     5.30   \n",
       "beta[3,1]   0.300  0.0050    0.22 -0.0400  0.290  0.700  1991.0     9.00   \n",
       "beta[3,2]   0.084  0.0026    0.16 -0.1900  0.080  0.350  4077.0    18.00   \n",
       "beta[3,3]  -0.420  0.0094    0.20 -0.7300 -0.430 -0.088   446.0     2.00   \n",
       "beta[3,4]  -0.320  0.0150    0.25 -0.7400 -0.300  0.051   260.0     1.20   \n",
       "beta[3,5]   0.440  0.0060    0.20  0.0950  0.440  0.760  1097.0     4.90   \n",
       "beta[3,6]   1.400  0.0150    0.40  0.7100  1.400  2.000   734.0     3.30   \n",
       "beta[3,7]   0.650  0.0330    0.51 -0.2200  0.670  1.500   229.0     1.00   \n",
       "beta[3,8]   0.650  0.0130    0.40  0.0078  0.670  1.300   913.0     4.10   \n",
       "beta[3,9]  -0.430  0.0390    0.69 -1.5000 -0.410  0.610   307.0     1.40   \n",
       "beta[3,10] -0.180  0.0290    0.70 -1.4000 -0.160  0.980   593.0     2.70   \n",
       "beta[3,11] -1.200  0.0570    0.84 -2.7000 -1.200  0.100   217.0     0.98   \n",
       "beta[3,12] -1.800  0.0210    0.67 -2.9000 -1.800 -0.780  1031.0     4.60   \n",
       "beta[3,13]  0.940  0.0250    0.62 -0.0810  0.940  1.900   623.0     2.80   \n",
       "beta[3,14] -0.420  0.0170    0.74 -1.6000 -0.430  0.790  1882.0     8.50   \n",
       "beta[4,1]  -0.014  0.0071    0.31 -0.5800  0.027  0.420  1918.0     8.60   \n",
       "beta[4,2]   0.080  0.0053    0.26 -0.3900  0.099  0.480  2455.0    11.00   \n",
       "beta[4,3]  -0.530  0.0150    0.34 -1.2000 -0.500 -0.068   492.0     2.20   \n",
       "beta[4,4]  -0.300  0.0068    0.33 -0.8700 -0.290  0.170  2280.0    10.00   \n",
       "beta[4,5]   0.250  0.0200    0.33 -0.4000  0.300  0.720   280.0     1.30   \n",
       "beta[4,6]   1.600  0.0140    0.50  0.8400  1.600  2.500  1328.0     6.00   \n",
       "beta[4,7]   0.870  0.0440    0.59 -0.1200  0.900  1.800   178.0     0.80   \n",
       "beta[4,8]   0.520  0.0190    0.63 -0.6400  0.610  1.400  1090.0     4.90   \n",
       "beta[4,9]  -0.072  0.0850    0.84 -1.4000 -0.110  1.700    98.0     0.44   \n",
       "beta[4,10] -0.240  0.0210    0.74 -1.4000 -0.240  0.960  1289.0     5.80   \n",
       "beta[4,11] -1.400  0.1100    1.10 -3.3000 -1.400  0.550   106.0     0.48   \n",
       "beta[4,12] -1.600  0.0330    0.72 -2.8000 -1.600 -0.440   486.0     2.20   \n",
       "beta[4,13]  0.920  0.0140    0.64 -0.1300  0.910  2.000  2237.0    10.00   \n",
       "beta[4,14] -0.620  0.0180    0.87 -2.1000 -0.550  0.680  2369.0    11.00   \n",
       "\n",
       "            R_hat  \n",
       "name               \n",
       "alpha[1]      1.0  \n",
       "alpha[2]      1.0  \n",
       "alpha[3]      1.0  \n",
       "alpha[4]      1.0  \n",
       "beta[1,1]     1.0  \n",
       "beta[1,2]     1.0  \n",
       "beta[1,3]     1.0  \n",
       "beta[1,4]     1.0  \n",
       "beta[1,5]     1.0  \n",
       "beta[1,6]     1.0  \n",
       "beta[1,7]     1.0  \n",
       "beta[1,8]     1.0  \n",
       "beta[1,9]     1.0  \n",
       "beta[1,10]    1.0  \n",
       "beta[1,11]    1.0  \n",
       "beta[1,12]    1.0  \n",
       "beta[1,13]    1.0  \n",
       "beta[1,14]    1.0  \n",
       "beta[2,1]     1.0  \n",
       "beta[2,2]     1.1  \n",
       "beta[2,3]     1.0  \n",
       "beta[2,4]     1.0  \n",
       "beta[2,5]     1.0  \n",
       "beta[2,6]     1.0  \n",
       "beta[2,7]     1.0  \n",
       "beta[2,8]     1.0  \n",
       "beta[2,9]     1.0  \n",
       "beta[2,10]    1.0  \n",
       "beta[2,11]    1.0  \n",
       "beta[2,12]    1.0  \n",
       "beta[2,13]    1.0  \n",
       "beta[2,14]    1.0  \n",
       "beta[3,1]     1.0  \n",
       "beta[3,2]     1.0  \n",
       "beta[3,3]     1.0  \n",
       "beta[3,4]     1.0  \n",
       "beta[3,5]     1.0  \n",
       "beta[3,6]     1.0  \n",
       "beta[3,7]     1.0  \n",
       "beta[3,8]     1.0  \n",
       "beta[3,9]     1.0  \n",
       "beta[3,10]    1.0  \n",
       "beta[3,11]    1.0  \n",
       "beta[3,12]    1.0  \n",
       "beta[3,13]    1.0  \n",
       "beta[3,14]    1.0  \n",
       "beta[4,1]     1.0  \n",
       "beta[4,2]     1.0  \n",
       "beta[4,3]     1.0  \n",
       "beta[4,4]     1.0  \n",
       "beta[4,5]     1.0  \n",
       "beta[4,6]     1.0  \n",
       "beta[4,7]     1.0  \n",
       "beta[4,8]     1.0  \n",
       "beta[4,9]     1.0  \n",
       "beta[4,10]    1.0  \n",
       "beta[4,11]    1.0  \n",
       "beta[4,12]    1.0  \n",
       "beta[4,13]    1.0  \n",
       "beta[4,14]    1.0  "
      ]
     },
     "execution_count": 25,
     "metadata": {},
     "output_type": "execute_result"
    }
   ],
   "source": [
    "hier_summary.filter(regex=r'(alpha|beta)\\[', axis=0)"
   ]
  },
  {
   "cell_type": "code",
   "execution_count": 105,
   "metadata": {},
   "outputs": [],
   "source": [
    "beta = hier_fit.stan_variables()['beta']"
   ]
  },
  {
   "cell_type": "code",
   "execution_count": 117,
   "metadata": {},
   "outputs": [
    {
     "data": {
      "image/png": "[encoded data removed]",
      "text/plain": [
       "<Figure size 432x288 with 1 Axes>"
      ]
     },
     "metadata": {
      "needs_background": "light"
     },
     "output_type": "display_data"
    },
    {
     "data": {
      "image/png": "[encoded data removed]",
      "text/plain": [
       "<Figure size 432x288 with 1 Axes>"
      ]
     },
     "metadata": {
      "needs_background": "light"
     },
     "output_type": "display_data"
    },
    {
     "data": {
      "image/png": "[encoded data removed]",
      "text/plain": [
       "<Figure size 432x288 with 1 Axes>"
      ]
     },
     "metadata": {
      "needs_background": "light"
     },
     "output_type": "display_data"
    },
    {
     "data": {
      "image/png": "[encoded data removed]",
      "text/plain": [
       "<Figure size 432x288 with 1 Axes>"
      ]
     },
     "metadata": {
      "needs_background": "light"
     },
     "output_type": "display_data"
    },
    {
     "data": {
      "image/png": "[encoded data removed]",
      "text/plain": [
       "<Figure size 432x288 with 1 Axes>"
      ]
     },
     "metadata": {
      "needs_background": "light"
     },
     "output_type": "display_data"
    },
    {
     "data": {
      "image/png": "[encoded data removed]",
      "text/plain": [
       "<Figure size 432x288 with 1 Axes>"
      ]
     },
     "metadata": {
      "needs_background": "light"
     },
     "output_type": "display_data"
    },
    {
     "data": {
      "image/png": "[encoded data removed]",
      "text/plain": [
       "<Figure size 432x288 with 1 Axes>"
      ]
     },
     "metadata": {
      "needs_background": "light"
     },
     "output_type": "display_data"
    },
    {
     "data": {
      "image/png": "[encoded data removed]",
      "text/plain": [
       "<Figure size 432x288 with 1 Axes>"
      ]
     },
     "metadata": {
      "needs_background": "light"
     },
     "output_type": "display_data"
    },
    {
     "data": {
      "image/png": "[encoded data removed]",
      "text/plain": [
       "<Figure size 432x288 with 1 Axes>"
      ]
     },
     "metadata": {
      "needs_background": "light"
     },
     "output_type": "display_data"
    },
    {
     "data": {
      "image/png": "[encoded data removed]",
      "text/plain": [
       "<Figure size 432x288 with 1 Axes>"
      ]
     },
     "metadata": {
      "needs_background": "light"
     },
     "output_type": "display_data"
    },
    {
     "data": {
      "image/png": "[encoded data removed]",
      "text/plain": [
       "<Figure size 432x288 with 1 Axes>"
      ]
     },
     "metadata": {
      "needs_background": "light"
     },
     "output_type": "display_data"
    },
    {
     "data": {
      "image/png": "[encoded data removed]",
      "text/plain": [
       "<Figure size 432x288 with 1 Axes>"
      ]
     },
     "metadata": {
      "needs_background": "light"
     },
     "output_type": "display_data"
    },
    {
     "data": {
      "image/png": "[encoded data removed]",
      "text/plain": [
       "<Figure size 432x288 with 1 Axes>"
      ]
     },
     "metadata": {
      "needs_background": "light"
     },
     "output_type": "display_data"
    },
    {
     "data": {
      "image/png": "[encoded data removed]",
      "text/plain": [
       "<Figure size 432x288 with 1 Axes>"
      ]
     },
     "metadata": {
      "needs_background": "light"
     },
     "output_type": "display_data"
    }
   ],
   "source": [
    "for i in range(beta.shape[2]):\n",
    "    title = hier_input['X'].columns[i]\n",
    "    pd.DataFrame(beta[:, : , i]).plot.kde(title=title);"
   ]
  },
  {
   "cell_type": "code",
   "execution_count": 90,
   "metadata": {},
   "outputs": [
    {
     "data": {
      "text/plain": [
       "array([12.  ,  0.71,  0.44,  0.26,  0.22,  0.29,  0.27,  0.31,  0.42,\n",
       "        0.45,  0.43,  0.57,  0.59,  0.59,  0.57,  0.57,  0.56,  0.3 ,\n",
       "        0.26,  0.33,  0.31,  0.3 ,  0.38,  0.41,  0.39,  0.36,  0.37,\n",
       "        0.4 ,  0.29,  0.29,  0.35,  0.78,  0.81,  0.79,  0.85,  0.17,\n",
       "        0.15,  0.15,  0.18,  0.16,  0.34,  0.41,  0.3 ,  0.6 ,  0.61,\n",
       "        0.61,  0.57,  0.58,  0.58,  0.31,  0.29,  0.4 ,  0.3 ,  0.34,\n",
       "        0.47,  0.59,  0.5 ,  0.62,  0.64,  0.67,  0.61,  0.6 ,  0.63,\n",
       "        0.23,  0.17,  0.2 ,  0.24,  0.22,  0.42,  0.48,  0.41,  0.6 ,\n",
       "        0.64,  0.61,  0.59,  0.59,  0.59,  0.31,  0.25,  0.37,  0.34,\n",
       "        0.32,  0.51,  0.59,  0.66,  0.66,  0.67,  0.7 ,  0.61,  0.61,\n",
       "        0.65])"
      ]
     },
     "execution_count": 90,
     "metadata": {},
     "output_type": "execute_result"
    }
   ],
   "source": [
    "hier_summary.StdDev.values"
   ]
  },
  {
   "cell_type": "code",
   "execution_count": 82,
   "metadata": {},
   "outputs": [
    {
     "data": {
      "text/html": [
       "<div>\n",
       "<style scoped>\n",
       "    .dataframe tbody tr th:only-of-type {\n",
       "        vertical-align: middle;\n",
       "    }\n",
       "\n",
       "    .dataframe tbody tr th {\n",
       "        vertical-align: top;\n",
       "    }\n",
       "\n",
       "    .dataframe thead th {\n",
       "        text-align: right;\n",
       "    }\n",
       "</style>\n",
       "<table border=\"1\" class=\"dataframe\">\n",
       "  <thead>\n",
       "    <tr style=\"text-align: right;\">\n",
       "      <th></th>\n",
       "      <th>Mean</th>\n",
       "      <th>MCSE</th>\n",
       "      <th>StdDev</th>\n",
       "      <th>5%</th>\n",
       "      <th>50%</th>\n",
       "      <th>95%</th>\n",
       "      <th>N_Eff</th>\n",
       "      <th>N_Eff/s</th>\n",
       "      <th>R_hat</th>\n",
       "    </tr>\n",
       "    <tr>\n",
       "      <th>name</th>\n",
       "      <th></th>\n",
       "      <th></th>\n",
       "      <th></th>\n",
       "      <th></th>\n",
       "      <th></th>\n",
       "      <th></th>\n",
       "      <th></th>\n",
       "      <th></th>\n",
       "      <th></th>\n",
       "    </tr>\n",
       "  </thead>\n",
       "  <tbody>\n",
       "    <tr>\n",
       "      <th>beta[1]</th>\n",
       "      <td>0.150</td>\n",
       "      <td>0.0013</td>\n",
       "      <td>0.100</td>\n",
       "      <td>-0.017</td>\n",
       "      <td>0.150</td>\n",
       "      <td>0.31</td>\n",
       "      <td>6045.00</td>\n",
       "      <td>6363.00</td>\n",
       "      <td>1.0</td>\n",
       "    </tr>\n",
       "    <tr>\n",
       "      <th>beta[2]</th>\n",
       "      <td>0.470</td>\n",
       "      <td>0.0011</td>\n",
       "      <td>0.093</td>\n",
       "      <td>0.320</td>\n",
       "      <td>0.470</td>\n",
       "      <td>0.62</td>\n",
       "      <td>7531.00</td>\n",
       "      <td>7928.00</td>\n",
       "      <td>1.0</td>\n",
       "    </tr>\n",
       "    <tr>\n",
       "      <th>beta[3]</th>\n",
       "      <td>-0.011</td>\n",
       "      <td>0.0012</td>\n",
       "      <td>0.092</td>\n",
       "      <td>-0.160</td>\n",
       "      <td>-0.013</td>\n",
       "      <td>0.14</td>\n",
       "      <td>6067.00</td>\n",
       "      <td>6386.00</td>\n",
       "      <td>1.0</td>\n",
       "    </tr>\n",
       "    <tr>\n",
       "      <th>beta[4]</th>\n",
       "      <td>-0.390</td>\n",
       "      <td>0.0014</td>\n",
       "      <td>0.100</td>\n",
       "      <td>-0.560</td>\n",
       "      <td>-0.390</td>\n",
       "      <td>-0.22</td>\n",
       "      <td>5898.00</td>\n",
       "      <td>6208.00</td>\n",
       "      <td>1.0</td>\n",
       "    </tr>\n",
       "    <tr>\n",
       "      <th>beta[5]</th>\n",
       "      <td>0.520</td>\n",
       "      <td>0.0012</td>\n",
       "      <td>0.099</td>\n",
       "      <td>0.360</td>\n",
       "      <td>0.510</td>\n",
       "      <td>0.68</td>\n",
       "      <td>6701.00</td>\n",
       "      <td>7054.00</td>\n",
       "      <td>1.0</td>\n",
       "    </tr>\n",
       "    <tr>\n",
       "      <th>beta[6]</th>\n",
       "      <td>-0.480</td>\n",
       "      <td>0.0013</td>\n",
       "      <td>0.100</td>\n",
       "      <td>-0.650</td>\n",
       "      <td>-0.480</td>\n",
       "      <td>-0.31</td>\n",
       "      <td>6139.00</td>\n",
       "      <td>6462.00</td>\n",
       "      <td>1.0</td>\n",
       "    </tr>\n",
       "    <tr>\n",
       "      <th>beta[7]</th>\n",
       "      <td>0.830</td>\n",
       "      <td>0.0013</td>\n",
       "      <td>0.100</td>\n",
       "      <td>0.660</td>\n",
       "      <td>0.830</td>\n",
       "      <td>1.00</td>\n",
       "      <td>6218.00</td>\n",
       "      <td>6546.00</td>\n",
       "      <td>1.0</td>\n",
       "    </tr>\n",
       "    <tr>\n",
       "      <th>beta[8]</th>\n",
       "      <td>0.760</td>\n",
       "      <td>0.0013</td>\n",
       "      <td>0.110</td>\n",
       "      <td>0.590</td>\n",
       "      <td>0.760</td>\n",
       "      <td>0.95</td>\n",
       "      <td>7111.00</td>\n",
       "      <td>7486.00</td>\n",
       "      <td>1.0</td>\n",
       "    </tr>\n",
       "    <tr>\n",
       "      <th>alpha</th>\n",
       "      <td>0.430</td>\n",
       "      <td>0.0000</td>\n",
       "      <td>0.090</td>\n",
       "      <td>0.280</td>\n",
       "      <td>0.430</td>\n",
       "      <td>0.59</td>\n",
       "      <td>5718.83</td>\n",
       "      <td>6019.82</td>\n",
       "      <td>1.0</td>\n",
       "    </tr>\n",
       "  </tbody>\n",
       "</table>\n",
       "</div>"
      ],
      "text/plain": [
       "          Mean    MCSE  StdDev     5%    50%   95%    N_Eff  N_Eff/s  R_hat\n",
       "name                                                                       \n",
       "beta[1]  0.150  0.0013   0.100 -0.017  0.150  0.31  6045.00  6363.00    1.0\n",
       "beta[2]  0.470  0.0011   0.093  0.320  0.470  0.62  7531.00  7928.00    1.0\n",
       "beta[3] -0.011  0.0012   0.092 -0.160 -0.013  0.14  6067.00  6386.00    1.0\n",
       "beta[4] -0.390  0.0014   0.100 -0.560 -0.390 -0.22  5898.00  6208.00    1.0\n",
       "beta[5]  0.520  0.0012   0.099  0.360  0.510  0.68  6701.00  7054.00    1.0\n",
       "beta[6] -0.480  0.0013   0.100 -0.650 -0.480 -0.31  6139.00  6462.00    1.0\n",
       "beta[7]  0.830  0.0013   0.100  0.660  0.830  1.00  6218.00  6546.00    1.0\n",
       "beta[8]  0.760  0.0013   0.110  0.590  0.760  0.95  7111.00  7486.00    1.0\n",
       "alpha    0.430  0.0000   0.090  0.280  0.430  0.59  5718.83  6019.82    1.0"
      ]
     },
     "execution_count": 82,
     "metadata": {},
     "output_type": "execute_result"
    }
   ],
   "source": [
    "fit.summary().filter(regex=r'(alpha|beta)', axis=0)"
   ]
  },
  {
   "cell_type": "code",
   "execution_count": 17,
   "metadata": {},
   "outputs": [],
   "source": [
    "df_shuffle = df.sample(frac=1, replace=False)\n",
    "df_train = df_shuffle.iloc[:-200]\n",
    "df_test = df_shuffle.iloc[-200:]"
   ]
  },
  {
   "cell_type": "code",
   "execution_count": 19,
   "metadata": {},
   "outputs": [],
   "source": [
    "from modelling.util.data_formatters import format_logreg_data"
   ]
  },
  {
   "cell_type": "code",
   "execution_count": 22,
   "metadata": {},
   "outputs": [
    {
     "name": "stderr",
     "output_type": "stream",
     "text": [
      "INFO:cmdstanpy:start chain 1\n",
      "INFO:cmdstanpy:start chain 2\n",
      "INFO:cmdstanpy:start chain 3\n",
      "INFO:cmdstanpy:start chain 4\n",
      "INFO:cmdstanpy:finish chain 3\n",
      "INFO:cmdstanpy:finish chain 2\n",
      "INFO:cmdstanpy:finish chain 4\n",
      "INFO:cmdstanpy:finish chain 1\n"
     ]
    }
   ],
   "source": [
    "train_fit = simple_model.sample(format_logreg_data(df_train))"
   ]
  },
  {
   "cell_type": "code",
   "execution_count": 26,
   "metadata": {},
   "outputs": [],
   "source": [
    "vars = train_fit.stan_variables()"
   ]
  },
  {
   "cell_type": "code",
   "execution_count": 27,
   "metadata": {},
   "outputs": [],
   "source": [
    "test_data = format_logreg_data(df_test)"
   ]
  },
  {
   "cell_type": "code",
   "execution_count": 42,
   "metadata": {},
   "outputs": [],
   "source": [
    "thetas = (test_data['X'].values @ vars['beta'].T) + vars['alpha']"
   ]
  },
  {
   "cell_type": "code",
   "execution_count": 59,
   "metadata": {},
   "outputs": [],
   "source": [
    "y_preds = (1 / (1 + np.exp(-thetas)))  # logit transform"
   ]
  },
  {
   "cell_type": "code",
   "execution_count": 61,
   "metadata": {},
   "outputs": [
    {
     "data": {
      "text/plain": [
       "0.805"
      ]
     },
     "execution_count": 61,
     "metadata": {},
     "output_type": "execute_result"
    }
   ],
   "source": [
    "(y_preds.mean(axis=1).round() == test_data['y']).mean()"
   ]
  },
  {
   "cell_type": "code",
   "execution_count": 80,
   "metadata": {},
   "outputs": [],
   "source": [
    "vars = fit.stan_variables()"
   ]
  },
  {
   "cell_type": "code",
   "execution_count": 81,
   "metadata": {},
   "outputs": [
    {
     "data": {
      "image/png": "[encoded data removed]",
      "text/plain": [
       "<Figure size 432x288 with 1 Axes>"
      ]
     },
     "metadata": {
      "needs_background": "light"
     },
     "output_type": "display_data"
    },
    {
     "data": {
      "image/png": "[encoded data removed]",
      "text/plain": [
       "<Figure size 432x288 with 1 Axes>"
      ]
     },
     "metadata": {
      "needs_background": "light"
     },
     "output_type": "display_data"
    },
    {
     "data": {
      "image/png": "[encoded data removed]",
      "text/plain": [
       "<Figure size 432x288 with 1 Axes>"
      ]
     },
     "metadata": {
      "needs_background": "light"
     },
     "output_type": "display_data"
    },
    {
     "data": {
      "image/png": "[encoded data removed]",
      "text/plain": [
       "<Figure size 432x288 with 1 Axes>"
      ]
     },
     "metadata": {
      "needs_background": "light"
     },
     "output_type": "display_data"
    },
    {
     "data": {
      "image/png": "[encoded data removed]",
      "text/plain": [
       "<Figure size 432x288 with 1 Axes>"
      ]
     },
     "metadata": {
      "needs_background": "light"
     },
     "output_type": "display_data"
    },
    {
     "data": {
      "image/png": "[encoded data removed]",
      "text/plain": [
       "<Figure size 432x288 with 1 Axes>"
      ]
     },
     "metadata": {
      "needs_background": "light"
     },
     "output_type": "display_data"
    },
    {
     "data": {
      "image/png": "[encoded data removed]",
      "text/plain": [
       "<Figure size 432x288 with 1 Axes>"
      ]
     },
     "metadata": {
      "needs_background": "light"
     },
     "output_type": "display_data"
    },
    {
     "data": {
      "image/png": "[encoded data removed]",
      "text/plain": [
       "<Figure size 432x288 with 1 Axes>"
      ]
     },
     "metadata": {
      "needs_background": "light"
     },
     "output_type": "display_data"
    },
    {
     "data": {
      "image/png": "[encoded data removed]",
      "text/plain": [
       "<Figure size 432x288 with 1 Axes>"
      ]
     },
     "metadata": {
      "needs_background": "light"
     },
     "output_type": "display_data"
    }
   ],
   "source": [
    "plt.hist(vars['alpha'], bins=40);\n",
    "plt.show()\n",
    "for i in range(vars['beta'].shape[1]):\n",
    "    plt.hist(vars['beta'][:, i], bins=40);\n",
    "    plt.show()"
   ]
  },
  {
   "cell_type": "code",
   "execution_count": 83,
   "metadata": {},
   "outputs": [
    {
     "data": {
      "text/plain": [
       "dict_keys(['beta', 'alpha', 'theta'])"
      ]
     },
     "execution_count": 83,
     "metadata": {},
     "output_type": "execute_result"
    }
   ],
   "source": [
    "vars.keys()"
   ]
  },
  {
   "cell_type": "code",
   "execution_count": 84,
   "metadata": {},
   "outputs": [
    {
     "data": {
      "text/plain": [
       "array([[nan, nan, nan, ..., nan, nan, nan],\n",
       "       [nan, nan, nan, ..., nan, nan, nan],\n",
       "       [nan, nan, nan, ..., nan, nan, nan],\n",
       "       ...,\n",
       "       [nan, nan, nan, ..., nan, nan, nan],\n",
       "       [nan, nan, nan, ..., nan, nan, nan],\n",
       "       [nan, nan, nan, ..., nan, nan, nan]])"
      ]
     },
     "execution_count": 84,
     "metadata": {},
     "output_type": "execute_result"
    }
   ],
   "source": [
    "vars['theta']"
   ]
  },
  {
   "cell_type": "code",
   "execution_count": 82,
   "metadata": {},
   "outputs": [
    {
     "name": "stderr",
     "output_type": "stream",
     "text": [
      "/Users/leevi/.pyenv/versions/3.10.0/envs/bda-venv/lib/python3.10/site-packages/matplotlib/axes/_axes.py:6731: RuntimeWarning: All-NaN slice encountered\n",
      "  xmin = min(xmin, np.nanmin(xi))\n",
      "/Users/leevi/.pyenv/versions/3.10.0/envs/bda-venv/lib/python3.10/site-packages/matplotlib/axes/_axes.py:6732: RuntimeWarning: All-NaN slice encountered\n",
      "  xmax = max(xmax, np.nanmax(xi))\n"
     ]
    },
    {
     "ename": "ValueError",
     "evalue": "autodetected range of [nan, nan] is not finite",
     "output_type": "error",
     "traceback": [
      "\u001b[0;31m---------------------------------------------------------------------------\u001b[0m",
      "\u001b[0;31mValueError\u001b[0m                                Traceback (most recent call last)",
      "\u001b[0;32m/var/folders/nc/dhtws2m1317bwzbsxq9n3_gc0000gn/T/ipykernel_37873/679684493.py\u001b[0m in \u001b[0;36m<module>\u001b[0;34m\u001b[0m\n\u001b[0;32m----> 1\u001b[0;31m \u001b[0mplt\u001b[0m\u001b[0;34m.\u001b[0m\u001b[0mhist\u001b[0m\u001b[0;34m(\u001b[0m\u001b[0mvars\u001b[0m\u001b[0;34m[\u001b[0m\u001b[0;34m'theta'\u001b[0m\u001b[0;34m]\u001b[0m\u001b[0;34m[\u001b[0m\u001b[0;34m:\u001b[0m\u001b[0;34m,\u001b[0m \u001b[0;36m1\u001b[0m\u001b[0;34m]\u001b[0m\u001b[0;34m,\u001b[0m \u001b[0mbins\u001b[0m\u001b[0;34m=\u001b[0m\u001b[0;36m40\u001b[0m\u001b[0;34m)\u001b[0m\u001b[0;34m;\u001b[0m\u001b[0;34m\u001b[0m\u001b[0;34m\u001b[0m\u001b[0m\n\u001b[0m",
      "\u001b[0;32m~/.pyenv/versions/3.10.0/envs/bda-venv/lib/python3.10/site-packages/matplotlib/pyplot.py\u001b[0m in \u001b[0;36mhist\u001b[0;34m(x, bins, range, density, weights, cumulative, bottom, histtype, align, orientation, rwidth, log, color, label, stacked, data, **kwargs)\u001b[0m\n\u001b[1;32m   2851\u001b[0m         \u001b[0morientation\u001b[0m\u001b[0;34m=\u001b[0m\u001b[0;34m'vertical'\u001b[0m\u001b[0;34m,\u001b[0m \u001b[0mrwidth\u001b[0m\u001b[0;34m=\u001b[0m\u001b[0;32mNone\u001b[0m\u001b[0;34m,\u001b[0m \u001b[0mlog\u001b[0m\u001b[0;34m=\u001b[0m\u001b[0;32mFalse\u001b[0m\u001b[0;34m,\u001b[0m \u001b[0mcolor\u001b[0m\u001b[0;34m=\u001b[0m\u001b[0;32mNone\u001b[0m\u001b[0;34m,\u001b[0m\u001b[0;34m\u001b[0m\u001b[0;34m\u001b[0m\u001b[0m\n\u001b[1;32m   2852\u001b[0m         label=None, stacked=False, *, data=None, **kwargs):\n\u001b[0;32m-> 2853\u001b[0;31m     return gca().hist(\n\u001b[0m\u001b[1;32m   2854\u001b[0m         \u001b[0mx\u001b[0m\u001b[0;34m,\u001b[0m \u001b[0mbins\u001b[0m\u001b[0;34m=\u001b[0m\u001b[0mbins\u001b[0m\u001b[0;34m,\u001b[0m \u001b[0mrange\u001b[0m\u001b[0;34m=\u001b[0m\u001b[0mrange\u001b[0m\u001b[0;34m,\u001b[0m \u001b[0mdensity\u001b[0m\u001b[0;34m=\u001b[0m\u001b[0mdensity\u001b[0m\u001b[0;34m,\u001b[0m \u001b[0mweights\u001b[0m\u001b[0;34m=\u001b[0m\u001b[0mweights\u001b[0m\u001b[0;34m,\u001b[0m\u001b[0;34m\u001b[0m\u001b[0;34m\u001b[0m\u001b[0m\n\u001b[1;32m   2855\u001b[0m         \u001b[0mcumulative\u001b[0m\u001b[0;34m=\u001b[0m\u001b[0mcumulative\u001b[0m\u001b[0;34m,\u001b[0m \u001b[0mbottom\u001b[0m\u001b[0;34m=\u001b[0m\u001b[0mbottom\u001b[0m\u001b[0;34m,\u001b[0m \u001b[0mhisttype\u001b[0m\u001b[0;34m=\u001b[0m\u001b[0mhisttype\u001b[0m\u001b[0;34m,\u001b[0m\u001b[0;34m\u001b[0m\u001b[0;34m\u001b[0m\u001b[0m\n",
      "\u001b[0;32m~/.pyenv/versions/3.10.0/envs/bda-venv/lib/python3.10/site-packages/matplotlib/__init__.py\u001b[0m in \u001b[0;36minner\u001b[0;34m(ax, data, *args, **kwargs)\u001b[0m\n\u001b[1;32m   1359\u001b[0m     \u001b[0;32mdef\u001b[0m \u001b[0minner\u001b[0m\u001b[0;34m(\u001b[0m\u001b[0max\u001b[0m\u001b[0;34m,\u001b[0m \u001b[0;34m*\u001b[0m\u001b[0margs\u001b[0m\u001b[0;34m,\u001b[0m \u001b[0mdata\u001b[0m\u001b[0;34m=\u001b[0m\u001b[0;32mNone\u001b[0m\u001b[0;34m,\u001b[0m \u001b[0;34m**\u001b[0m\u001b[0mkwargs\u001b[0m\u001b[0;34m)\u001b[0m\u001b[0;34m:\u001b[0m\u001b[0;34m\u001b[0m\u001b[0;34m\u001b[0m\u001b[0m\n\u001b[1;32m   1360\u001b[0m         \u001b[0;32mif\u001b[0m \u001b[0mdata\u001b[0m \u001b[0;32mis\u001b[0m \u001b[0;32mNone\u001b[0m\u001b[0;34m:\u001b[0m\u001b[0;34m\u001b[0m\u001b[0;34m\u001b[0m\u001b[0m\n\u001b[0;32m-> 1361\u001b[0;31m             \u001b[0;32mreturn\u001b[0m \u001b[0mfunc\u001b[0m\u001b[0;34m(\u001b[0m\u001b[0max\u001b[0m\u001b[0;34m,\u001b[0m \u001b[0;34m*\u001b[0m\u001b[0mmap\u001b[0m\u001b[0;34m(\u001b[0m\u001b[0msanitize_sequence\u001b[0m\u001b[0;34m,\u001b[0m \u001b[0margs\u001b[0m\u001b[0;34m)\u001b[0m\u001b[0;34m,\u001b[0m \u001b[0;34m**\u001b[0m\u001b[0mkwargs\u001b[0m\u001b[0;34m)\u001b[0m\u001b[0;34m\u001b[0m\u001b[0;34m\u001b[0m\u001b[0m\n\u001b[0m\u001b[1;32m   1362\u001b[0m \u001b[0;34m\u001b[0m\u001b[0m\n\u001b[1;32m   1363\u001b[0m         \u001b[0mbound\u001b[0m \u001b[0;34m=\u001b[0m \u001b[0mnew_sig\u001b[0m\u001b[0;34m.\u001b[0m\u001b[0mbind\u001b[0m\u001b[0;34m(\u001b[0m\u001b[0max\u001b[0m\u001b[0;34m,\u001b[0m \u001b[0;34m*\u001b[0m\u001b[0margs\u001b[0m\u001b[0;34m,\u001b[0m \u001b[0;34m**\u001b[0m\u001b[0mkwargs\u001b[0m\u001b[0;34m)\u001b[0m\u001b[0;34m\u001b[0m\u001b[0;34m\u001b[0m\u001b[0m\n",
      "\u001b[0;32m~/.pyenv/versions/3.10.0/envs/bda-venv/lib/python3.10/site-packages/matplotlib/axes/_axes.py\u001b[0m in \u001b[0;36mhist\u001b[0;34m(self, x, bins, range, density, weights, cumulative, bottom, histtype, align, orientation, rwidth, log, color, label, stacked, **kwargs)\u001b[0m\n\u001b[1;32m   6757\u001b[0m             \u001b[0;31m# this will automatically overwrite bins,\u001b[0m\u001b[0;34m\u001b[0m\u001b[0;34m\u001b[0m\u001b[0m\n\u001b[1;32m   6758\u001b[0m             \u001b[0;31m# so that each histogram uses the same bins\u001b[0m\u001b[0;34m\u001b[0m\u001b[0;34m\u001b[0m\u001b[0m\n\u001b[0;32m-> 6759\u001b[0;31m             \u001b[0mm\u001b[0m\u001b[0;34m,\u001b[0m \u001b[0mbins\u001b[0m \u001b[0;34m=\u001b[0m \u001b[0mnp\u001b[0m\u001b[0;34m.\u001b[0m\u001b[0mhistogram\u001b[0m\u001b[0;34m(\u001b[0m\u001b[0mx\u001b[0m\u001b[0;34m[\u001b[0m\u001b[0mi\u001b[0m\u001b[0;34m]\u001b[0m\u001b[0;34m,\u001b[0m \u001b[0mbins\u001b[0m\u001b[0;34m,\u001b[0m \u001b[0mweights\u001b[0m\u001b[0;34m=\u001b[0m\u001b[0mw\u001b[0m\u001b[0;34m[\u001b[0m\u001b[0mi\u001b[0m\u001b[0;34m]\u001b[0m\u001b[0;34m,\u001b[0m \u001b[0;34m**\u001b[0m\u001b[0mhist_kwargs\u001b[0m\u001b[0;34m)\u001b[0m\u001b[0;34m\u001b[0m\u001b[0;34m\u001b[0m\u001b[0m\n\u001b[0m\u001b[1;32m   6760\u001b[0m             \u001b[0mtops\u001b[0m\u001b[0;34m.\u001b[0m\u001b[0mappend\u001b[0m\u001b[0;34m(\u001b[0m\u001b[0mm\u001b[0m\u001b[0;34m)\u001b[0m\u001b[0;34m\u001b[0m\u001b[0;34m\u001b[0m\u001b[0m\n\u001b[1;32m   6761\u001b[0m         \u001b[0mtops\u001b[0m \u001b[0;34m=\u001b[0m \u001b[0mnp\u001b[0m\u001b[0;34m.\u001b[0m\u001b[0marray\u001b[0m\u001b[0;34m(\u001b[0m\u001b[0mtops\u001b[0m\u001b[0;34m,\u001b[0m \u001b[0mfloat\u001b[0m\u001b[0;34m)\u001b[0m  \u001b[0;31m# causes problems later if it's an int\u001b[0m\u001b[0;34m\u001b[0m\u001b[0;34m\u001b[0m\u001b[0m\n",
      "\u001b[0;32m<__array_function__ internals>\u001b[0m in \u001b[0;36mhistogram\u001b[0;34m(*args, **kwargs)\u001b[0m\n",
      "\u001b[0;32m~/.pyenv/versions/3.10.0/envs/bda-venv/lib/python3.10/site-packages/numpy/lib/histograms.py\u001b[0m in \u001b[0;36mhistogram\u001b[0;34m(a, bins, range, normed, weights, density)\u001b[0m\n\u001b[1;32m    791\u001b[0m     \u001b[0ma\u001b[0m\u001b[0;34m,\u001b[0m \u001b[0mweights\u001b[0m \u001b[0;34m=\u001b[0m \u001b[0m_ravel_and_check_weights\u001b[0m\u001b[0;34m(\u001b[0m\u001b[0ma\u001b[0m\u001b[0;34m,\u001b[0m \u001b[0mweights\u001b[0m\u001b[0;34m)\u001b[0m\u001b[0;34m\u001b[0m\u001b[0;34m\u001b[0m\u001b[0m\n\u001b[1;32m    792\u001b[0m \u001b[0;34m\u001b[0m\u001b[0m\n\u001b[0;32m--> 793\u001b[0;31m     \u001b[0mbin_edges\u001b[0m\u001b[0;34m,\u001b[0m \u001b[0muniform_bins\u001b[0m \u001b[0;34m=\u001b[0m \u001b[0m_get_bin_edges\u001b[0m\u001b[0;34m(\u001b[0m\u001b[0ma\u001b[0m\u001b[0;34m,\u001b[0m \u001b[0mbins\u001b[0m\u001b[0;34m,\u001b[0m \u001b[0mrange\u001b[0m\u001b[0;34m,\u001b[0m \u001b[0mweights\u001b[0m\u001b[0;34m)\u001b[0m\u001b[0;34m\u001b[0m\u001b[0;34m\u001b[0m\u001b[0m\n\u001b[0m\u001b[1;32m    794\u001b[0m \u001b[0;34m\u001b[0m\u001b[0m\n\u001b[1;32m    795\u001b[0m     \u001b[0;31m# Histogram is an integer or a float array depending on the weights.\u001b[0m\u001b[0;34m\u001b[0m\u001b[0;34m\u001b[0m\u001b[0m\n",
      "\u001b[0;32m~/.pyenv/versions/3.10.0/envs/bda-venv/lib/python3.10/site-packages/numpy/lib/histograms.py\u001b[0m in \u001b[0;36m_get_bin_edges\u001b[0;34m(a, bins, range, weights)\u001b[0m\n\u001b[1;32m    424\u001b[0m             \u001b[0;32mraise\u001b[0m \u001b[0mValueError\u001b[0m\u001b[0;34m(\u001b[0m\u001b[0;34m'`bins` must be positive, when an integer'\u001b[0m\u001b[0;34m)\u001b[0m\u001b[0;34m\u001b[0m\u001b[0;34m\u001b[0m\u001b[0m\n\u001b[1;32m    425\u001b[0m \u001b[0;34m\u001b[0m\u001b[0m\n\u001b[0;32m--> 426\u001b[0;31m         \u001b[0mfirst_edge\u001b[0m\u001b[0;34m,\u001b[0m \u001b[0mlast_edge\u001b[0m \u001b[0;34m=\u001b[0m \u001b[0m_get_outer_edges\u001b[0m\u001b[0;34m(\u001b[0m\u001b[0ma\u001b[0m\u001b[0;34m,\u001b[0m \u001b[0mrange\u001b[0m\u001b[0;34m)\u001b[0m\u001b[0;34m\u001b[0m\u001b[0;34m\u001b[0m\u001b[0m\n\u001b[0m\u001b[1;32m    427\u001b[0m \u001b[0;34m\u001b[0m\u001b[0m\n\u001b[1;32m    428\u001b[0m     \u001b[0;32melif\u001b[0m \u001b[0mnp\u001b[0m\u001b[0;34m.\u001b[0m\u001b[0mndim\u001b[0m\u001b[0;34m(\u001b[0m\u001b[0mbins\u001b[0m\u001b[0;34m)\u001b[0m \u001b[0;34m==\u001b[0m \u001b[0;36m1\u001b[0m\u001b[0;34m:\u001b[0m\u001b[0;34m\u001b[0m\u001b[0;34m\u001b[0m\u001b[0m\n",
      "\u001b[0;32m~/.pyenv/versions/3.10.0/envs/bda-venv/lib/python3.10/site-packages/numpy/lib/histograms.py\u001b[0m in \u001b[0;36m_get_outer_edges\u001b[0;34m(a, range)\u001b[0m\n\u001b[1;32m    321\u001b[0m         \u001b[0mfirst_edge\u001b[0m\u001b[0;34m,\u001b[0m \u001b[0mlast_edge\u001b[0m \u001b[0;34m=\u001b[0m \u001b[0ma\u001b[0m\u001b[0;34m.\u001b[0m\u001b[0mmin\u001b[0m\u001b[0;34m(\u001b[0m\u001b[0;34m)\u001b[0m\u001b[0;34m,\u001b[0m \u001b[0ma\u001b[0m\u001b[0;34m.\u001b[0m\u001b[0mmax\u001b[0m\u001b[0;34m(\u001b[0m\u001b[0;34m)\u001b[0m\u001b[0;34m\u001b[0m\u001b[0;34m\u001b[0m\u001b[0m\n\u001b[1;32m    322\u001b[0m         \u001b[0;32mif\u001b[0m \u001b[0;32mnot\u001b[0m \u001b[0;34m(\u001b[0m\u001b[0mnp\u001b[0m\u001b[0;34m.\u001b[0m\u001b[0misfinite\u001b[0m\u001b[0;34m(\u001b[0m\u001b[0mfirst_edge\u001b[0m\u001b[0;34m)\u001b[0m \u001b[0;32mand\u001b[0m \u001b[0mnp\u001b[0m\u001b[0;34m.\u001b[0m\u001b[0misfinite\u001b[0m\u001b[0;34m(\u001b[0m\u001b[0mlast_edge\u001b[0m\u001b[0;34m)\u001b[0m\u001b[0;34m)\u001b[0m\u001b[0;34m:\u001b[0m\u001b[0;34m\u001b[0m\u001b[0;34m\u001b[0m\u001b[0m\n\u001b[0;32m--> 323\u001b[0;31m             raise ValueError(\n\u001b[0m\u001b[1;32m    324\u001b[0m                 \"autodetected range of [{}, {}] is not finite\".format(first_edge, last_edge))\n\u001b[1;32m    325\u001b[0m \u001b[0;34m\u001b[0m\u001b[0m\n",
      "\u001b[0;31mValueError\u001b[0m: autodetected range of [nan, nan] is not finite"
     ]
    },
    {
     "data": {
      "image/png": "[encoded data removed]",
      "text/plain": [
       "<Figure size 432x288 with 1 Axes>"
      ]
     },
     "metadata": {
      "needs_background": "light"
     },
     "output_type": "display_data"
    }
   ],
   "source": [
    "plt.hist(vars['theta'][:, 1], bins=40);"
   ]
  },
  {
   "cell_type": "code",
   "execution_count": null,
   "metadata": {},
   "outputs": [],
   "source": []
  }
 ],
 "metadata": {
  "interpreter": {
   "hash": "e04c0971280f290ac609a891582ebfcb595f0cfc5a8d799114afab273c3d0efb"
  },
  "kernelspec": {
   "display_name": "Python 3.10.0 64-bit ('vscode-pyvenv': pyenv)",
   "language": "python",
   "name": "python3"
  },
  "language_info": {
   "codemirror_mode": {
    "name": "ipython",
    "version": 3
   },
   "file_extension": ".py",
   "mimetype": "text/x-python",
   "name": "python",
   "nbconvert_exporter": "python",
   "pygments_lexer": "ipython3",
   "version": "3.10.0"
  },
  "orig_nbformat": 4
 },
 "nbformat": 4,
 "nbformat_minor": 2
}
